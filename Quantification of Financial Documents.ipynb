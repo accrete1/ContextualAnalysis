{
 "cells": [
  {
   "cell_type": "markdown",
   "metadata": {},
   "source": [
    "# Sentiment Analysis: Quantification of Financial Documents"
   ]
  },
  {
   "cell_type": "markdown",
   "metadata": {},
   "source": [
    "The efficient market hypothesis assumes that the market price is reflective of all available information about a given asset. Markets over the last few decades, as reflected by hedge funds’ recent inabilities to outperform their benchmarks, have become more efficient. However, pockets of inefficiency remain related to the processing of market participants’ sentiment on individual assets or classes of assets. Indeed, sentiment can be seen as a real-time interpretation of the information being brought to the market by different players. For example, in earnings calls or securities filings, this is management bringing their views into the market. On social media, this could include individual investors on different platforms voicing their sentiment on a given stock, which could indicate the market actions (i.e. buy, sell, hold) they may pursue. Monitoring and identifying discrepancies between raw information and the sentiment of these actors is invaluable in capturing the remaining alpha in financial markets."
   ]
  },
  {
   "cell_type": "markdown",
   "metadata": {},
   "source": [
    "## Today's Tasks: Going from an ACCURACY of 33.33% to more than 80%"
   ]
  },
  {
   "attachments": {},
   "cell_type": "markdown",
   "metadata": {},
   "source": [
    "Today, we will build simple models, that will show the importance of context in unstructed financial datasets. The models will take as an input any financial statement (e.g. \"Assets in the private credit industry today total more than $600 billion, up about six fold since the year 2000.\") and quantify it."
   ]
  },
  {
   "cell_type": "markdown",
   "metadata": {},
   "source": [
    "In the following exercise, we will start with a simple statistical model (Financial-Sentiment-V1), where we use pre-trained Word Embeddings (GloVe) to represent each word in the corpus and combine these embeddings to obtain the sentiment. Later, we will build more sophisticated models (Financial-Sentiment-V2 and Financial-Sentiment-V3) that further incorporates Recurrent Neural Network (RNN) and Long Short Term Memory Units (LSTM)."
   ]
  },
  {
   "cell_type": "markdown",
   "metadata": {},
   "source": [
    "## 1. Financial-Sentiment-V1"
   ]
  },
  {
   "cell_type": "markdown",
   "metadata": {},
   "source": [
    "Let's load the required packages on this notebook. Press Shift+Enter on each cell to execute them."
   ]
  },
  {
   "cell_type": "code",
   "execution_count": 23,
   "metadata": {},
   "outputs": [],
   "source": [
    "import numpy as np\n",
    "import pandas as pd\n",
    "import string\n",
    "import re\n",
    "import matplotlib.pyplot as plt\n",
    "from scipy.special import softmax\n",
    "from sklearn.feature_extraction.text import CountVectorizer\n",
    "from sklearn.feature_extraction.text import TfidfVectorizer\n",
    "from sklearn.preprocessing import LabelBinarizer\n",
    "from keras.preprocessing.text import Tokenizer\n",
    "from sklearn.model_selection import train_test_split"
   ]
  },
  {
   "cell_type": "markdown",
   "metadata": {},
   "source": [
    "### 1.1 Dataset (Samples from Earnings Call)"
   ]
  },
  {
   "cell_type": "markdown",
   "metadata": {},
   "source": [
    "Let's load the dataset using the code below. \n",
    "The dataset contains 14727 sentences (strings) and their corresponding integer labels between -1 and 1 (-1:Negative; 0:Neutral; 1:Positive). \n",
    "\n",
    "<img src='SampleData.png'>"
   ]
  },
  {
   "cell_type": "code",
   "execution_count": 148,
   "metadata": {},
   "outputs": [],
   "source": [
    "Data = pd.read_csv('EC_data.csv')\n",
    "X = list(Data['Sentence'])\n",
    "Y = Data['MyScore']"
   ]
  },
  {
   "cell_type": "markdown",
   "metadata": {},
   "source": [
    "To see other sentences in the dataset, you can change $index$ below and run the cell to print sentences from X and corresponding labels from Y. "
   ]
  },
  {
   "cell_type": "code",
   "execution_count": 171,
   "metadata": {},
   "outputs": [
    {
     "name": "stdout",
     "output_type": "stream",
     "text": [
      "Our tactical opportunities business raised $700 million during the quarter, had an additional closing in October, which, as Tony mentioned, brought the strategy to $4.4 billion in size, which is really good for a start-up type of business that doesn't fit any particular vertical silo in the institutional community it invests across. 1\n"
     ]
    }
   ],
   "source": [
    "index = 10\n",
    "print(X[index], (Y[index]))"
   ]
  },
  {
   "cell_type": "markdown",
   "metadata": {},
   "source": [
    "### 1.2 - Overview of the Financial-Sentiment-V1\n",
    "\n",
    "In this part, we are going to implement a baseline statistical model called \"Financial-Sentiment-V1\".\n",
    "\n",
    "The input for this case will be any sentence from our dataset (e.g. \"Assets in the private credit industry today total more than $600 billion, up about six fold since the year 2000\"), and the output will be a vector of shape (3,1) where each value will be the probability of the class being true, that is then passed to an argmax layer to extract the index of the most likely output.\n",
    "\n",
    "Being a classification problem, we will convert our labels to normalize them for the softmax classifier. Let's convert $Y$ ($(m, 1)$) into a \"one-hot representation\" $(m, 3)$, where each row is a one-hot vector giving the label of one example."
   ]
  },
  {
   "cell_type": "code",
   "execution_count": 5,
   "metadata": {},
   "outputs": [],
   "source": [
    "LB = LabelBinarizer()\n",
    "LB.fit(Y)\n",
    "Y_OH = LB.transform(Y)"
   ]
  },
  {
   "cell_type": "code",
   "execution_count": 6,
   "metadata": {},
   "outputs": [
    {
     "name": "stdout",
     "output_type": "stream",
     "text": [
      "1 is converted into one hot [0 0 1]\n"
     ]
    }
   ],
   "source": [
    "index = 10\n",
    "print(Y[index], \"is converted into one hot\", Y_OH[index])"
   ]
  },
  {
   "cell_type": "markdown",
   "metadata": {},
   "source": [
    "### 1.3 - Implementing Financial-Sentiment-V1\n"
   ]
  },
  {
   "cell_type": "markdown",
   "metadata": {},
   "source": [
    "### 1.3.1 Feature Representation of Text\n",
    "\n",
    "In almost all NLP tasks, the first step is to convert input text into a representation that the machine can process. There are multiple ways to represent text, some statistical and some contextual. Below we will go through a few ways to represent any text dataset to understand how these work."
   ]
  },
  {
   "cell_type": "markdown",
   "metadata": {},
   "source": [
    "#### Count Vectors\n",
    "\n",
    "At the most basic level, Count Vectors represent the $count$ of each word in an example. We build a dictionary of every word present in the dataset, and then each count vector has the size $(C,1)$, where $C$ is the size of the dictionary. Given such a representation, the words in each sentence are jumbled and thus lose a lot of the contextual information in the data. Let's see an example below."
   ]
  },
  {
   "cell_type": "code",
   "execution_count": 7,
   "metadata": {},
   "outputs": [],
   "source": [
    "count_vect = CountVectorizer(analyzer='word', token_pattern=r'\\w{1,}')\n",
    "\n",
    "# fit the data using count vectorizer object\n",
    "count_vect.fit(X)\n",
    "    \n",
    "# transform the data using count vectorizer object\n",
    "X_count =  count_vect.transform(X)"
   ]
  },
  {
   "cell_type": "markdown",
   "metadata": {},
   "source": [
    "Let's look at what the count vectors look like for a sample of the data."
   ]
  },
  {
   "cell_type": "code",
   "execution_count": 172,
   "metadata": {},
   "outputs": [
    {
     "name": "stdout",
     "output_type": "stream",
     "text": [
      "['Stock markets in the U. S. which initially declined up to 8%, have now recovered in only three weeks to regain record levels.\\nInterest rates have started to decline slowly as market peaks, as investors recognize that the Fed will act with prudence, not to stifle the economic recovery.', 'This receivable, contrary to what you might think, actually increased from the previous year despite our very substantial payout of distributions over the same period.', 'While a challenging single quarter for the industry and for us, on a long-term basis, as Steve have mentioned, BAAM has delivered net returns 50% greater than the market with about one-third of the volatility over the past 15 years.', \"Finally, I'd like to highlight an important emerging dimension confirms business and economic model that is important to consider pertaining to new businesses like Real Estate core+ and Core Private Equity, which together will be approaching $17 billion in the second quarter, up from zero just over two years ago.\", 'Evidencing the carryover of this momentum into 2015, we should point out that realization activity remains robust, as we already have closed or announced $6 billion of realizations in the first few weeks of the first quarter alone.', 'This consistency and stability deepens our relationships with our limited partners and results in them wanting to do more business with us.', \"First, we completed the spin of our advisory businesses on October 1, and so 2015 was without what is typically those businesses' seasonally strongest quarter.\", 'In Hedge Funds, the strategies are either designed to have a third of the volatility of the S&P, be market neutral, long, short or relate to asset growth of alternative managers, all of which is a step or move from public markets.', \"As you know, our eighth global real estate fund was activated this year and we'll experience its first quarter of full fees in the current quarter and first year of full fees in 2016.\", \"In fact, as Steve outlined, several of our newest and largest fundraisers have resulted in the firm reaching caps or capacity, evidencing the demand for alternatives in general, and the power of Blackstone's track record and brand in particular.\"]\n",
      "['15', '17', '2015', '50', '6', '8', 'a', 'about', 'act', 'activity', 'actually', 'ago', 'alone', 'already', 'an', 'and', 'announced', 'approaching', 'as', 'baam', 'basis', 'be', 'billion', 'business', 'businesses', 'carryover', 'challenging', 'closed', 'confirms', 'consider', 'contrary', 'core', 'd', 'decline', 'declined', 'delivered', 'despite', 'dimension', 'distributions', 'economic', 'emerging', 'equity', 'estate', 'evidencing', 'fed', 'few', 'finally', 'first', 'for', 'from', 'greater', 'has', 'have', 'highlight', 'i', 'important', 'in', 'increased', 'industry', 'initially', 'interest', 'into', 'investors', 'is', 'just', 'levels', 'like', 'long', 'market', 'markets', 'mentioned', 'might', 'model', 'momentum', 'net', 'new', 'not', 'now', 'of', 'on', 'one', 'only', 'or', 'our', 'out', 'over', 'past', 'payout', 'peaks', 'period', 'pertaining', 'point', 'previous', 'private', 'prudence', 'quarter', 'rates', 'real', 'realization', 'realizations', 'receivable', 'recognize', 'record', 'recovered', 'recovery', 'regain', 'remains', 'returns', 'robust', 's', 'same', 'second', 'should', 'single', 'slowly', 'started', 'steve', 'stifle', 'stock', 'substantial', 'term', 'than', 'that', 'the', 'think', 'third', 'this', 'three', 'to', 'together', 'two', 'u', 'up', 'us', 'very', 'volatility', 'we', 'weeks', 'what', 'which', 'while', 'will', 'with', 'year', 'years', 'you', 'zero']\n",
      "[[0 0 0 0 0 1 0 0 1 0 0 0 0 0 0 0 0 0 2 0 0 0 0 0 0 0 0 0 0 0 0 0 0 1 1 0\n",
      "  0 0 0 1 0 0 0 0 1 0 0 0 0 0 0 0 2 0 0 0 2 0 0 1 1 0 1 0 0 1 0 0 1 1 0 0\n",
      "  0 0 0 0 1 1 0 0 0 1 0 0 0 0 0 0 1 0 0 0 0 0 1 0 1 0 0 0 0 1 1 1 1 1 0 0\n",
      "  0 1 0 0 0 0 1 1 0 1 1 0 0 0 1 3 0 0 0 1 4 0 0 1 1 0 0 0 0 1 0 1 0 1 1 0\n",
      "  0 0 0]\n",
      " [0 0 0 0 0 0 0 0 0 0 1 0 0 0 0 0 0 0 0 0 0 0 0 0 0 0 0 0 0 0 1 0 0 0 0 0\n",
      "  1 0 1 0 0 0 0 0 0 0 0 0 0 1 0 0 0 0 0 0 0 1 0 0 0 0 0 0 0 0 0 0 0 0 0 1\n",
      "  0 0 0 0 0 0 1 0 0 0 0 1 0 1 0 1 0 1 0 0 1 0 0 0 0 0 0 0 1 0 0 0 0 0 0 0\n",
      "  0 0 1 0 0 0 0 0 0 0 0 1 0 0 0 2 1 0 1 0 1 0 0 0 0 0 1 0 0 0 1 0 0 0 0 1\n",
      "  0 1 0]\n",
      " [1 0 0 1 0 0 2 1 0 0 0 0 0 0 0 1 0 0 1 1 1 0 0 0 0 0 1 0 0 0 0 0 0 0 0 1\n",
      "  0 0 0 0 0 0 0 0 0 0 0 0 2 0 1 1 1 0 0 0 0 0 1 0 0 0 0 0 0 0 0 1 1 0 1 0\n",
      "  0 0 1 0 0 0 1 1 1 0 0 0 0 1 1 0 0 0 0 0 0 0 0 1 0 0 0 0 0 0 0 0 0 0 0 1\n",
      "  0 0 0 0 0 1 0 0 1 0 0 0 1 1 0 4 0 1 0 0 0 0 0 0 0 1 0 1 0 0 0 0 1 0 1 0\n",
      "  1 0 0]\n",
      " [0 1 0 0 0 0 0 0 0 0 0 1 0 0 1 2 0 1 0 0 0 1 1 1 1 0 0 0 1 1 0 2 1 0 0 0\n",
      "  0 1 0 1 1 1 1 0 0 0 1 0 0 1 0 0 0 1 1 2 1 0 0 0 0 0 0 1 1 0 2 0 0 0 0 0\n",
      "  1 0 0 1 0 0 0 0 0 0 0 0 0 1 0 0 0 0 1 0 0 1 0 1 0 1 0 0 0 0 0 0 0 0 0 0\n",
      "  0 0 0 1 0 0 0 0 0 0 0 0 0 0 1 1 0 0 0 0 3 1 1 0 1 0 0 0 0 0 0 1 0 1 0 0\n",
      "  1 0 1]\n",
      " [0 0 1 0 1 0 0 0 0 1 0 0 1 1 0 0 1 0 1 0 0 0 1 0 0 1 0 1 0 0 0 0 0 0 0 0\n",
      "  0 0 0 0 0 0 0 1 0 1 0 2 0 0 0 0 1 0 0 0 1 0 0 0 0 1 0 0 0 0 0 0 0 0 0 0\n",
      "  0 1 0 0 0 0 3 0 0 0 1 0 1 0 0 0 0 0 0 1 0 0 0 1 0 0 1 1 0 0 0 0 0 0 1 0\n",
      "  1 0 0 0 1 0 0 0 0 0 0 0 0 0 1 3 0 0 1 0 0 0 0 0 0 0 0 0 2 1 0 0 0 0 0 0\n",
      "  0 0 0]]\n"
     ]
    }
   ],
   "source": [
    "vectorizer = CountVectorizer(analyzer='word', token_pattern=r'\\w{1,}')\n",
    "Sample_Count = vectorizer.fit_transform(X[:5])\n",
    "print(X[:5])\n",
    "print(vectorizer.get_feature_names())\n",
    "print(Sample_Count.toarray())  "
   ]
  },
  {
   "cell_type": "markdown",
   "metadata": {},
   "source": [
    "#### TF-IDF Vectors\n",
    "\n",
    "Term Frequency - Inverse Document Frequency (TF-IDF) vector representation accounts for the the most commonly occuring words in a document which empirically do not provide much information. We can think of this representation as 'Normalizing the Count Vectors' with respect to the document frequency, where document frequency is the number of documents containing that term out of the total number of documents. \n",
    "\n",
    "For both Count Vectors and TF-IDF Vectors, we can also convert the document based on co-occuring words (n-grams) or even the character level. \n",
    "\n",
    "Let's see an example of TF-IDF Vectors below."
   ]
  },
  {
   "cell_type": "code",
   "execution_count": 14,
   "metadata": {},
   "outputs": [],
   "source": [
    "# word level tf-idf\n",
    "tfidf_vect = TfidfVectorizer(analyzer='word', token_pattern=r'\\w{1,}', max_features=5000)\n",
    "tfidf_vect.fit(X)\n",
    "X_tfidf =  tfidf_vect.transform(X)\n",
    "\n",
    "# ngram level tf-idf \n",
    "tfidf_vect_ngram = TfidfVectorizer(analyzer='word', token_pattern=r'\\w{1,}', ngram_range=(2,3), max_features=5000)\n",
    "tfidf_vect_ngram.fit(X)\n",
    "X_tfidf_ngram =  tfidf_vect_ngram.transform(X)\n",
    "\n",
    "# characters level tf-idf\n",
    "tfidf_vect_ngram_chars = TfidfVectorizer(analyzer='char', token_pattern=r'\\w{1,}', ngram_range=(2,3), max_features=5000)\n",
    "tfidf_vect_ngram_chars.fit(X)\n",
    "X_tfidf_ngram_chars =  tfidf_vect_ngram_chars.transform(X)"
   ]
  },
  {
   "cell_type": "code",
   "execution_count": null,
   "metadata": {},
   "outputs": [],
   "source": [
    "# word level tf-idf\n",
    "vectorizer = TfidfVectorizer(analyzer='word', token_pattern=r'\\w{1,}', max_features=5000)\n",
    "Sample_Count = vectorizer.fit_transform(X[:5])\n",
    "print(X[:5])\n",
    "print(vectorizer.get_feature_names())\n",
    "print(Sample_Count.shape)\n",
    "print(Sample_Count.toarray())  "
   ]
  },
  {
   "cell_type": "code",
   "execution_count": null,
   "metadata": {},
   "outputs": [],
   "source": [
    "# ngram level tf-idf\n",
    "vectorizer = TfidfVectorizer(analyzer='word', token_pattern=r'\\w{1,}', ngram_range=(2,3), max_features=5000)\n",
    "Sample_Count = vectorizer.fit_transform(X[:5])\n",
    "print(X[:5])\n",
    "print(vectorizer.get_feature_names())\n",
    "print(Sample_Count.shape)\n",
    "print(Sample_Count.toarray())  "
   ]
  },
  {
   "cell_type": "code",
   "execution_count": null,
   "metadata": {},
   "outputs": [],
   "source": [
    "# characters level tf-idf\n",
    "vectorizer = TfidfVectorizer(analyzer='char', token_pattern=r'\\w{1,}', ngram_range=(2,3), max_features=5000)\n",
    "Sample_Count = vectorizer.fit_transform(X[:5])\n",
    "print(X[:5])\n",
    "print(vectorizer.get_feature_names())\n",
    "print(Sample_Count.shape)\n",
    "print(Sample_Count.toarray())  "
   ]
  },
  {
   "cell_type": "markdown",
   "metadata": {},
   "source": [
    "#### Word Embeddings\n",
    "Word embeddings are generally obtained by building a network that can predict the next word, given a part of the sentence. Therefore, these word embeddings generally have contextual meaning hidden in them. Given properly trained word embeddings, they are able to capture similarities between different words. For example, $King:Queen::Man:?$ should produce $Woman$. Thus these word embeddings provide much more meaning to the represetation ofthe dataset. \n",
    "\n",
    "Below, we will use pretrained 50-dimensional GloVe embeddings for our task (Jeffrey Pennington, Richard Socher, and Christopher D. Manning. 2014. GloVe: Global Vectors for Word Representation.). Run the following cell to load the pre-trained word-vector representations."
   ]
  },
  {
   "cell_type": "code",
   "execution_count": 29,
   "metadata": {},
   "outputs": [],
   "source": [
    "def read_glove_vecs(glove_file):\n",
    "    with open(glove_file, 'r') as f:\n",
    "        words = set()\n",
    "        word_to_vec_map = {}\n",
    "        for line in f:\n",
    "            line = line.strip().split()\n",
    "            curr_word = line[0]\n",
    "            words.add(curr_word)\n",
    "            word_to_vec_map[curr_word] = np.array(line[1:], dtype=np.float64)\n",
    "        \n",
    "        i = 1\n",
    "        words_to_index = {}\n",
    "        index_to_words = {}\n",
    "        for w in sorted(words):\n",
    "            words_to_index[w] = i\n",
    "            index_to_words[i] = w\n",
    "            i = i + 1\n",
    "    return words_to_index, index_to_words, word_to_vec_map\n",
    "\n",
    "word_to_index, index_to_word, word_to_vec_map = read_glove_vecs('glove.6B.50d.txt')"
   ]
  },
  {
   "cell_type": "markdown",
   "metadata": {},
   "source": [
    "We also need to clean up the text to remove unnecessary characters in the data, as well as standardize the data with respect to textcase. The function below implements this."
   ]
  },
  {
   "cell_type": "code",
   "execution_count": 20,
   "metadata": {},
   "outputs": [],
   "source": [
    "def clean_document(s):\n",
    "    punctuation = string.punctuation.replace(\"$\",\"\")\n",
    "    punctuation = punctuation.replace(\"%\",\"\")\n",
    "    punctuation = punctuation.replace(\".\",\"\")\n",
    "    regex = re.compile('[%s]' % re.escape(punctuation + '\\n\\n' + '\\t\\t'))\n",
    "    doco_clean = regex.sub('', s)\n",
    "    doco_clean = doco_clean.split(' ');\n",
    "    doco_clean = [word.lower() for word in doco_clean if len(word) > 0];\n",
    "    return doco_clean;\n",
    "\n",
    "# X_train_clean = [clean_document(doc) for doc in X_train];\n",
    "# sentences = [' '.join(r) for r in X_train_clean]"
   ]
  },
  {
   "cell_type": "markdown",
   "metadata": {},
   "source": [
    "### 1.3.2 The Model for Financial-Sentiment-V1\n",
    "\n",
    "The model below converts each word in a sentence in to the respective word embedding vectors and averages them out. This is a very basic model where we will see that a Bag-Of-Words approach again loses the context in the data, since the averaging of all vectors does not keep the ordering of words in place. Therefore, while the word embeddings themselves were useful, averaging them out loses information."
   ]
  },
  {
   "cell_type": "code",
   "execution_count": 69,
   "metadata": {},
   "outputs": [],
   "source": [
    "def sentence_to_avg(sentence, word_to_vec_map):\n",
    "    \n",
    "    # Step 1: Clean the sentence for unwanted punctuations (≈ 1 line)\n",
    "    clean_sentence = clean_document(sentence)\n",
    "    clean_sentence = ' '.join(clean_sentence)\n",
    "    # Step 2: Split sentence into list of lower case words (≈ 1 line)\n",
    "    words = [i for i in clean_sentence.split()]\n",
    "\n",
    "    # Initialize the average word vector, should have the same shape as your word vectors.\n",
    "    avg = np.zeros((50,))\n",
    "    \n",
    "    # Step 3: average the word vectors. You can loop over the words in the list \"words\".\n",
    "    for w in words:\n",
    "        if w in word_to_vec_map:\n",
    "            avg += word_to_vec_map[w]\n",
    "    avg = avg / len(words)\n",
    "    \n",
    "    return avg"
   ]
  },
  {
   "cell_type": "code",
   "execution_count": 173,
   "metadata": {},
   "outputs": [
    {
     "name": "stdout",
     "output_type": "stream",
     "text": [
      "avg =  [ 0.26956385  0.16672588  0.14773427 -0.02106142  0.26837015  0.0862631\n",
      " -0.51499381 -0.3032405  -0.09628022  0.00788788 -0.03455082  0.04363842\n",
      " -0.27352154 -0.07371946  0.32823194  0.04443627 -0.02299358  0.08622424\n",
      " -0.45268815 -0.30439096  0.45163981 -0.0642255   0.1031345  -0.29393677\n",
      " -0.15614854 -1.23140188  0.03060142 -0.05696419  0.22098765 -0.06096092\n",
      "  3.15196808  0.24857712 -0.22906296 -0.00623649  0.18017722 -0.07002043\n",
      " -0.01247919  0.22210315  0.17086285 -0.18696877 -0.12483815 -0.11889538\n",
      "  0.10272015 -0.02692988 -0.23968721  0.10922885 -0.06557547  0.25517996\n",
      " -0.0555085   0.08912108]\n"
     ]
    }
   ],
   "source": [
    "avg = sentence_to_avg(\"We completed two acquisitions during the year adding a 3 million gallon motor-fuel business to our mix and a bolt-on acquisition to our Cylinder Exchange program.\", word_to_vec_map)\n",
    "print(\"avg = \", avg)"
   ]
  },
  {
   "cell_type": "code",
   "execution_count": 71,
   "metadata": {},
   "outputs": [],
   "source": [
    "def model(x, y, word_to_vec_map, learning_rate = 0.01, num_iterations = 400):\n",
    "    \n",
    "    np.random.seed(1)\n",
    "\n",
    "    # Define number of training examples\n",
    "    m = y.shape[0]                          # number of training examples\n",
    "    n_y = 3                                 # number of classes  \n",
    "    n_h = 50                                # dimensions of the GloVe vectors \n",
    "    \n",
    "    # Initialize parameters using Xavier initialization\n",
    "    W = np.random.randn(n_y, n_h) / np.sqrt(n_h)\n",
    "    b = np.zeros((n_y,))\n",
    "    \n",
    "    # Optimization loop\n",
    "    for t in range(num_iterations):                       # Loop over the number of iterations\n",
    "        for i in range(m):                                # Loop over the training examples\n",
    "            \n",
    "            # Average the word vectors of the words from the i'th training example\n",
    "            avg = sentence_to_avg(x[i], word_to_vec_map)\n",
    "\n",
    "            # Forward propagate the avg through the softmax layer\n",
    "            z = np.dot(W, avg) + b\n",
    "            a = softmax(z)\n",
    "\n",
    "            # Compute cost using the i'th training label's one hot representation and \"A\" (the output of the softmax)\n",
    "            cost = -np.sum(np.multiply(y[i], np.log(a)))\n",
    "            \n",
    "            # Compute gradients \n",
    "            dz = a - y[i]\n",
    "            dW = np.dot(dz.reshape(n_y,1), avg.reshape(1, n_h))\n",
    "            db = dz\n",
    "\n",
    "            # Update parameters with Stochastic Gradient Descent\n",
    "            W = W - learning_rate * dW\n",
    "            b = b - learning_rate * db\n",
    "        \n",
    "        if t % 100 == 0:\n",
    "            print(\"Epoch: \" + str(t) + \" --- cost = \" + str(cost))\n",
    "            pred = predict(x, y, W, b, word_to_vec_map)\n",
    "\n",
    "    return pred, W, b"
   ]
  },
  {
   "cell_type": "code",
   "execution_count": 88,
   "metadata": {},
   "outputs": [],
   "source": [
    "def predict(x, y, W, b, word_to_vec_map):\n",
    "\n",
    "    m = len(x)\n",
    "    pred = np.zeros((m, 1))\n",
    "    Y_value = np.zeros((m, 1))\n",
    "    \n",
    "    for j in range(m):                       # Loop over training examples\n",
    "        \n",
    "        # Split jth test example (sentence) into list of lower case words\n",
    "        clean_sentence = clean_document(x[j])\n",
    "        clean_sentence = ' '.join(clean_sentence)\n",
    "        # Step 2: Split sentence into list of lower case words (≈ 1 line)\n",
    "        words = [i for i in clean_sentence.split()]\n",
    "        \n",
    "        # Average words' vectors\n",
    "        avg = np.zeros((50,))\n",
    "        for w in words:\n",
    "            if w in word_to_vec_map:\n",
    "                avg += word_to_vec_map[w]\n",
    "        avg = avg/len(words)\n",
    "\n",
    "        # Forward propagation\n",
    "        Z = np.dot(W, avg) + b\n",
    "        A = softmax(Z)\n",
    "        pred[j] = np.argmax(A)\n",
    "        Y_value[j] = np.argmax(y[j])\n",
    "        \n",
    "    pred[pred == 0] = -1\n",
    "    pred[pred == 1] = 0\n",
    "    pred[pred == 2] = 1\n",
    "    \n",
    "    Y_value[Y_value == 0] = -1\n",
    "    Y_value[Y_value == 1] = 0\n",
    "    Y_value[Y_value == 2] = 1\n",
    "        \n",
    "    print(\"Accuracy: \"  + str(np.mean((pred[:] == Y_value.reshape(Y_value.shape[0],1)[:]))))\n",
    "    \n",
    "    return pred"
   ]
  },
  {
   "cell_type": "code",
   "execution_count": 89,
   "metadata": {},
   "outputs": [
    {
     "name": "stdout",
     "output_type": "stream",
     "text": [
      "Epoch: 0 --- cost = 1.465530363046367\n",
      "Accuracy: 0.5883198849564593\n",
      "Epoch: 100 --- cost = 0.9504478543614028\n",
      "Accuracy: 0.6306622992729888\n",
      "Epoch: 200 --- cost = 0.9388129184663074\n",
      "Accuracy: 0.6325796916193976\n",
      "Epoch: 300 --- cost = 0.9298192010497282\n",
      "Accuracy: 0.6339378445314372\n",
      "[[ 1.]\n",
      " [ 0.]\n",
      " [-1.]\n",
      " ...\n",
      " [ 0.]\n",
      " [ 1.]\n",
      " [ 1.]]\n"
     ]
    }
   ],
   "source": [
    "X_train, X_test, Y_train, Y_test = train_test_split(X,Y_OH, test_size=.15)\n",
    "pred, W, b = model(X_train, Y_train, word_to_vec_map)\n",
    "print(pred)"
   ]
  },
  {
   "cell_type": "markdown",
   "metadata": {},
   "source": [
    "### 1.3.3 - Examine performance on Test (Unseen) Data\n",
    "\n",
    "Below we can see how the model performed on the training data and test data. While it is a significant increase from just randomly classifying each sentence in to one of the three labels, it still may not have significant value."
   ]
  },
  {
   "cell_type": "code",
   "execution_count": 90,
   "metadata": {},
   "outputs": [
    {
     "name": "stdout",
     "output_type": "stream",
     "text": [
      "Training set:\n",
      "Accuracy: 0.6341775185747384\n",
      "Test set:\n",
      "Accuracy: 0.6285067873303167\n"
     ]
    }
   ],
   "source": [
    "print(\"Training set:\")\n",
    "pred_train = predict(X_train, Y_train, W, b, word_to_vec_map)\n",
    "print('Test set:')\n",
    "pred_test = predict(X_test, Y_test, W, b, word_to_vec_map)"
   ]
  },
  {
   "cell_type": "markdown",
   "metadata": {},
   "source": [
    "## 2. Financial-Sentiment-V2 Using Sequential Neural Networks"
   ]
  },
  {
   "cell_type": "markdown",
   "metadata": {},
   "source": [
    "### 2.1 Model Overview\n",
    "\n",
    "Text datasets are generally directional datasets, where the context/meaning depends on the ordering of each word within that sentence. Sequential Neural Networks provide us with a way to analyze these datasets in contextual manner than being completely statistical. Below, we will see two types of networks: 1) Recurrent Neural Networks (RNN), and 2) Long Short Term Memory Units (LSTM) and compare these with the model built above.\n",
    "\n",
    "An essential component of a neural network analyzing text data is the Embedding Layer. This embedding layer serves as the bridge between $text$ and its $numerical$ $representation$ that the machine processes."
   ]
  },
  {
   "cell_type": "markdown",
   "metadata": {},
   "source": [
    "### 2.2 Embedding Layer\n",
    "\n",
    "The embedding layer takes as input the indices of each word in the sentence and outputs the corresponding word vector representation. This embedding layer can use pre-trained word embedding vectors, or these can be tuned/trained on the fly as well. In the models below we will use the same pre-trained GloVe embeddings as above.\n",
    "\n",
    "Run the following cell to load the required packages and libraries."
   ]
  },
  {
   "cell_type": "code",
   "execution_count": 165,
   "metadata": {},
   "outputs": [],
   "source": [
    "import numpy as np\n",
    "np.random.seed(0)\n",
    "from keras.models import Model, Sequential\n",
    "from keras.layers import Dense, Input, Dropout, LSTM, Activation, SimpleRNN\n",
    "from keras.layers.embeddings import Embedding\n",
    "from keras.preprocessing import sequence\n",
    "from keras.initializers import glorot_uniform\n",
    "from keras.utils import to_categorical\n",
    "from keras.optimizers import Adam\n",
    "from keras.preprocessing.sequence import pad_sequences\n",
    "np.random.seed(1)"
   ]
  },
  {
   "cell_type": "markdown",
   "metadata": {},
   "source": [
    "We will again need to clean up the text as a pre-processing step for input to the neural networks."
   ]
  },
  {
   "cell_type": "code",
   "execution_count": 106,
   "metadata": {},
   "outputs": [],
   "source": [
    "def clean_document(s):\n",
    "    regex = re.compile('[%s]' % re.escape(string.punctuation + '\\n\\n' + '\\t\\t'))\n",
    "    doco_clean = regex.sub('', s)\n",
    "    doco_clean = doco_clean.split(' ');\n",
    "    doco_clean = [word.lower() for word in doco_clean if len(word) > 0];\n",
    "    return doco_clean;"
   ]
  },
  {
   "cell_type": "markdown",
   "metadata": {},
   "source": [
    "Let's load the data again and do some pre-processing for our labels, i.e. convert these to one-hot-encodings, and clean up the sentences from the earnings calls."
   ]
  },
  {
   "cell_type": "code",
   "execution_count": 156,
   "metadata": {},
   "outputs": [
    {
     "name": "stderr",
     "output_type": "stream",
     "text": [
      "/Users/sahil/anaconda3/lib/python3.6/site-packages/ipykernel_launcher.py:7: SettingWithCopyWarning: \n",
      "A value is trying to be set on a copy of a slice from a DataFrame\n",
      "\n",
      "See the caveats in the documentation: http://pandas.pydata.org/pandas-docs/stable/indexing.html#indexing-view-versus-copy\n",
      "  import sys\n",
      "/Users/sahil/anaconda3/lib/python3.6/site-packages/ipykernel_launcher.py:8: SettingWithCopyWarning: \n",
      "A value is trying to be set on a copy of a slice from a DataFrame\n",
      "\n",
      "See the caveats in the documentation: http://pandas.pydata.org/pandas-docs/stable/indexing.html#indexing-view-versus-copy\n",
      "  \n"
     ]
    },
    {
     "data": {
      "image/png": "[encoded data removed]",
      "text/plain": [
       "<Figure size 432x288 with 1 Axes>"
      ]
     },
     "metadata": {},
     "output_type": "display_data"
    }
   ],
   "source": [
    "Data = pd.read_csv('EC_data.csv')\n",
    "X = list(Data['Sentence'])\n",
    "Y = Data['MyScore']\n",
    "\n",
    "y = Y\n",
    "y[Y > 0] = 1\n",
    "y[Y < 0] = 2\n",
    "\n",
    "# Obtain a One-hot Y array for each review label.\n",
    "y = to_categorical(y);\n",
    "\n",
    "X_clean = [clean_document(doc) for doc in X];\n",
    "sentences = [' '.join(r) for r in X_clean]\n"
   ]
  },
  {
   "cell_type": "markdown",
   "metadata": {},
   "source": [
    "Next, we will tokenize each word in the dataset to unique identifier for that word, which could then be used by the embedding layer to convert this index to its corresponding word vector representation. Here, we will again use the pre-trained GloVe embeddings."
   ]
  },
  {
   "cell_type": "code",
   "execution_count": null,
   "metadata": {},
   "outputs": [],
   "source": [
    "tokenizer = Tokenizer();\n",
    "tokenizer.fit_on_texts(sentences);\n",
    "text_sequences = np.array(tokenizer.texts_to_sequences(sentences));\n",
    "sequence_dict = tokenizer.word_index;\n",
    "word_dict = dict((num, val) for (val, num) in sequence_dict.items());\n",
    "\n",
    "Glove_dim = 50\n",
    "embeddings_index = dict();\n",
    "with open('glove.6B.50d.txt') as f:\n",
    "    for line in f:\n",
    "        values = line.split();\n",
    "        word = values[0];\n",
    "        coefs = np.asarray(values[1:], dtype='float32');\n",
    "        embeddings_index[word] = coefs;\n",
    "        \n",
    "vocab_size = len(sequence_dict);\n",
    "embeddings_matrix = np.zeros((vocab_size+1, Glove_dim));\n",
    "for word, i in sequence_dict.items():\n",
    "    embedding_vector = embeddings_index.get(word);\n",
    "    if embedding_vector is not None:\n",
    "        embeddings_matrix[i] = embedding_vector;\n",
    "\n",
    "# Generate encoded reviews\n",
    "reviews_encoded = [];\n",
    "for i,review in enumerate(X_clean):\n",
    "    reviews_encoded.append([sequence_dict[x] for x in review]);"
   ]
  },
  {
   "cell_type": "markdown",
   "metadata": {},
   "source": [
    "Let's look at the distribution of the lengths of sentences in our dataset. This would allow us to fix the length of the sentence that goes as input to the network."
   ]
  },
  {
   "cell_type": "code",
   "execution_count": null,
   "metadata": {},
   "outputs": [],
   "source": [
    "# Plot a Histogram of length of reviews\n",
    "lengths = [len(x) for x in reviews_encoded];\n",
    "with plt.xkcd():\n",
    "    plt.hist(lengths, bins=range(100))    "
   ]
  },
  {
   "cell_type": "markdown",
   "metadata": {},
   "source": [
    "The histogram above shows that we could use a cap of 50 words for each sentence as almost all of the distribution is captured at this length.\n",
    "\n",
    "Next, we will truncate all sentences for a cap of 50 words and pad those sentences with length less than 50. We will also randomny shuffle the data, so as not to overfit the neural network to any particular part of the data."
   ]
  },
  {
   "cell_type": "code",
   "execution_count": null,
   "metadata": {},
   "outputs": [],
   "source": [
    "# Truncate and Pad reviews at a Maximum cap of 50 words.\n",
    "max_cap = 50;\n",
    "X_pad = pad_sequences(reviews_encoded, maxlen=max_cap, truncating='post', padding='post')\n",
    "\n",
    "# Get a randomized sequence of positions to shuffle reviews\n",
    "np.random.seed(1024);\n",
    "random_posits = np.arange(len(X))\n",
    "np.random.shuffle(random_posits);\n",
    "\n",
    "# Shuffle X and Y\n",
    "X_pad = X_pad[random_posits];\n",
    "y = y[random_posits];"
   ]
  },
  {
   "cell_type": "markdown",
   "metadata": {},
   "source": [
    "As the last step before the model, we need to split the data in to training and test sets."
   ]
  },
  {
   "cell_type": "code",
   "execution_count": 157,
   "metadata": {},
   "outputs": [],
   "source": [
    "X_train, X_test, Y_train, Y_test = train_test_split(X_pad,y, test_size=.15)"
   ]
  },
  {
   "cell_type": "markdown",
   "metadata": {},
   "source": [
    "### 2.3 Building the Model\n",
    "\n",
    "Below, we will implement two models using RNNs and LSTMs. In both cases, we will start with the embedding layer which then feeds in to the RNN/LSTM units. This then goes in to a Feed Forward Neural Network and then finally to a classifier."
   ]
  },
  {
   "cell_type": "markdown",
   "metadata": {},
   "source": [
    "#### 2.3.1 Recurrent Neural Network\n",
    "\n"
   ]
  },
  {
   "cell_type": "code",
   "execution_count": 174,
   "metadata": {},
   "outputs": [
    {
     "name": "stdout",
     "output_type": "stream",
     "text": [
      "_________________________________________________________________\n",
      "Layer (type)                 Output Shape              Param #   \n",
      "=================================================================\n",
      "embedding_11 (Embedding)     (None, 50, 50)            969650    \n",
      "_________________________________________________________________\n",
      "simple_rnn_3 (SimpleRNN)     (None, 60)                6660      \n",
      "_________________________________________________________________\n",
      "dense_19 (Dense)             (None, 60)                3660      \n",
      "_________________________________________________________________\n",
      "dense_20 (Dense)             (None, 3)                 183       \n",
      "=================================================================\n",
      "Total params: 980,153\n",
      "Trainable params: 10,503\n",
      "Non-trainable params: 969,650\n",
      "_________________________________________________________________\n",
      "None\n",
      "Epoch 1/10\n",
      "12517/12517 [==============================] - 4s 284us/step - loss: 0.6003 - acc: 0.6647\n",
      "Epoch 2/10\n",
      "12517/12517 [==============================] - 2s 175us/step - loss: 0.5913 - acc: 0.6669\n",
      "Epoch 3/10\n",
      "12517/12517 [==============================] - 2s 186us/step - loss: 0.5918 - acc: 0.6675\n",
      "Epoch 4/10\n",
      "12517/12517 [==============================] - 2s 183us/step - loss: 0.5921 - acc: 0.6657\n",
      "Epoch 5/10\n",
      "12517/12517 [==============================] - 2s 174us/step - loss: 0.5901 - acc: 0.6667\n",
      "Epoch 6/10\n",
      "12517/12517 [==============================] - 2s 174us/step - loss: 0.5896 - acc: 0.6669\n",
      "Epoch 7/10\n",
      "12517/12517 [==============================] - 2s 172us/step - loss: 0.5892 - acc: 0.6662\n",
      "Epoch 8/10\n",
      "12517/12517 [==============================] - 2s 177us/step - loss: 0.5893 - acc: 0.6687\n",
      "Epoch 9/10\n",
      "12517/12517 [==============================] - 2s 177us/step - loss: 0.5891 - acc: 0.6672\n",
      "Epoch 10/10\n",
      "12517/12517 [==============================] - 2s 167us/step - loss: 0.5888 - acc: 0.6671\n",
      "2210/2210 [==============================] - 1s 304us/step\n",
      "\n",
      "Test accuracy =  0.6684766404229592\n"
     ]
    }
   ],
   "source": [
    "model = Sequential();\n",
    "model.add(Embedding(len(word_dict)+1, max_cap, input_length=max_cap, weights=[embeddings_matrix], trainable=False));\n",
    "model.add(SimpleRNN(60));\n",
    "model.add(Dense(60, activation='relu'));\n",
    "model.add(Dense(3, activation='softmax'));\n",
    "print(model.summary());\n",
    "optimizer = Adam(lr=0.01, decay=0.001);\n",
    "model.compile(loss='binary_crossentropy', optimizer=optimizer, metrics=['accuracy'])\n",
    "# fit model\n",
    "model.fit(X_train, Y_train, batch_size=64, epochs=10)\n",
    "\n",
    "loss, acc = model.evaluate(X_test, Y_test)\n",
    "print()\n",
    "print(\"Test accuracy = \", acc)"
   ]
  },
  {
   "cell_type": "markdown",
   "metadata": {},
   "source": [
    "#### 2.3.2 LSTM\n",
    "\n",
    "While RNN is a sequential neural network, it suffers from Vanishing/Exploding Gradients that act as Memory Loss."
   ]
  },
  {
   "cell_type": "code",
   "execution_count": 169,
   "metadata": {},
   "outputs": [
    {
     "name": "stdout",
     "output_type": "stream",
     "text": [
      "_________________________________________________________________\n",
      "Layer (type)                 Output Shape              Param #   \n",
      "=================================================================\n",
      "embedding_10 (Embedding)     (None, 50, 50)            969650    \n",
      "_________________________________________________________________\n",
      "lstm_11 (LSTM)               (None, 60)                26640     \n",
      "_________________________________________________________________\n",
      "dense_17 (Dense)             (None, 60)                3660      \n",
      "_________________________________________________________________\n",
      "dense_18 (Dense)             (None, 3)                 183       \n",
      "=================================================================\n",
      "Total params: 1,000,133\n",
      "Trainable params: 30,483\n",
      "Non-trainable params: 969,650\n",
      "_________________________________________________________________\n",
      "None\n",
      "Epoch 1/10\n",
      "12517/12517 [==============================] - 9s 735us/step - loss: 0.5874 - acc: 0.6755\n",
      "Epoch 2/10\n",
      "12517/12517 [==============================] - 7s 576us/step - loss: 0.5095 - acc: 0.7587\n",
      "Epoch 3/10\n",
      "12517/12517 [==============================] - 7s 571us/step - loss: 0.4423 - acc: 0.7986\n",
      "Epoch 4/10\n",
      "12517/12517 [==============================] - 7s 570us/step - loss: 0.4096 - acc: 0.8188\n",
      "Epoch 5/10\n",
      "12517/12517 [==============================] - 7s 571us/step - loss: 0.3842 - acc: 0.8338\n",
      "Epoch 6/10\n",
      "12517/12517 [==============================] - 7s 578us/step - loss: 0.3592 - acc: 0.8469\n",
      "Epoch 7/10\n",
      "12517/12517 [==============================] - 7s 595us/step - loss: 0.3298 - acc: 0.8640\n",
      "Epoch 8/10\n",
      "12517/12517 [==============================] - 7s 575us/step - loss: 0.3054 - acc: 0.8761\n",
      "Epoch 9/10\n",
      "12517/12517 [==============================] - 8s 634us/step - loss: 0.2785 - acc: 0.8904\n",
      "Epoch 10/10\n",
      "12517/12517 [==============================] - 8s 608us/step - loss: 0.2549 - acc: 0.9025\n",
      "2210/2210 [==============================] - 1s 409us/step\n",
      "\n",
      "Test accuracy =  0.8174962324254653\n"
     ]
    }
   ],
   "source": [
    "model = Sequential();\n",
    "model.add(Embedding(len(word_dict)+1, max_cap, input_length=max_cap, weights=[embeddings_matrix], trainable=False));\n",
    "model.add(LSTM(60));\n",
    "model.add(Dense(60, activation='relu'));\n",
    "model.add(Dense(3, activation='softmax'));\n",
    "print(model.summary());\n",
    "optimizer = Adam(lr=0.01, decay=0.001);\n",
    "model.compile(loss='binary_crossentropy', optimizer=optimizer, metrics=['accuracy'])\n",
    "# fit model\n",
    "model.fit(X_train, Y_train, batch_size=64, epochs=10)\n",
    "\n",
    "loss, acc = model.evaluate(X_test, Y_test)\n",
    "print()\n",
    "print(\"Test accuracy = \", acc)"
   ]
  },
  {
   "cell_type": "code",
   "execution_count": null,
   "metadata": {},
   "outputs": [],
   "source": []
  }
 ],
 "metadata": {
  "kernelspec": {
   "display_name": "Python 3",
   "language": "python",
   "name": "python3"
  },
  "language_info": {
   "codemirror_mode": {
    "name": "ipython",
    "version": 3
   },
   "file_extension": ".py",
   "mimetype": "text/x-python",
   "name": "python",
   "nbconvert_exporter": "python",
   "pygments_lexer": "ipython3",
   "version": "3.6.8"
  }
 },
 "nbformat": 4,
 "nbformat_minor": 2
}
