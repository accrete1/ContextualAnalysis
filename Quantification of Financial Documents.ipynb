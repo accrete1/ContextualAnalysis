{
 "cells": [
  {
   "cell_type": "markdown",
   "metadata": {},
   "source": [
    "# Sentiment Analysis: Quantification of Financial Documents"
   ]
  },
  {
   "cell_type": "markdown",
   "metadata": {},
   "source": [
    "The efficient market hypothesis assumes that the market price is reflective of all available information about a given asset. Markets over the last few decades, as reflected by hedge funds’ recent inabilities to outperform their benchmarks, have become more efficient. However, pockets of inefficiency remain related to the processing of market participants’ sentiment on individual assets or classes of assets. Indeed, sentiment can be seen as a real-time interpretation of the information being brought to the market by different players. For example, in earnings calls or securities filings, this is management bringing their views into the market. On social media, this could include individual investors on different platforms voicing their sentiment on a given stock, which could indicate the market actions (i.e. buy, sell, hold) they may pursue. Monitoring and identifying discrepancies between raw information and the sentiment of these actors is invaluable in capturing the remaining alpha in financial markets."
   ]
  },
  {
   "cell_type": "markdown",
   "metadata": {},
   "source": [
    "## Today's Tasks: Going from an ACCURACY of 33.33% to more than 80%"
   ]
  },
  {
   "cell_type": "markdown",
   "metadata": {},
   "source": [
    "Today, we will build simple models, that will show the importance of context in unstructed financial datasets. The models will take as an input any financial statement (e.g. \"Assets in the private credit industry today total more than $600 billion, up about six fold since the year 2000.\") and quantify it."
   ]
  },
  {
   "cell_type": "markdown",
   "metadata": {},
   "source": [
    "In the following exercise, we will start with a simple statistical model (Financial-Sentiment-V1), where we use pre-trained Word Embeddings (GloVe) to represent each word in the corpus and combine these embeddings to obtain the sentiment. Later, we will build more sophisticated models (Financial-Sentiment-V2 and Financial-Sentiment-V3) that further incorporates Recurrent Neural Network (RNN) and Long Short Term Memory Units (LSTM)."
   ]
  },
  {
   "cell_type": "markdown",
   "metadata": {},
   "source": [
    "## 1. Financial-Sentiment-V1"
   ]
  },
  {
   "cell_type": "markdown",
   "metadata": {},
   "source": [
    "Let's load the required packages on this notebook. Press Shift+Enter on each cell to execute them."
   ]
  },
  {
   "cell_type": "code",
   "execution_count": 1,
   "metadata": {},
   "outputs": [
    {
     "name": "stderr",
     "output_type": "stream",
     "text": [
      "Using TensorFlow backend.\n"
     ]
    }
   ],
   "source": [
    "import numpy as np\n",
    "import pandas as pd\n",
    "import string\n",
    "import re\n",
    "import matplotlib.pyplot as plt\n",
    "from matplotlib.pyplot import figure\n",
    "from scipy.special import softmax\n",
    "from sklearn.feature_extraction.text import CountVectorizer\n",
    "from sklearn.feature_extraction.text import TfidfVectorizer\n",
    "from sklearn.preprocessing import LabelBinarizer\n",
    "from keras.preprocessing.text import Tokenizer\n",
    "from sklearn.model_selection import train_test_split"
   ]
  },
  {
   "cell_type": "markdown",
   "metadata": {},
   "source": [
    "### 1.1 Dataset (Samples from Earnings Call)"
   ]
  },
  {
   "cell_type": "markdown",
   "metadata": {},
   "source": [
    "Let's load the dataset using the code below. \n",
    "The dataset contains 14727 sentences (strings) and their corresponding integer labels between -1 and 1 (-1:Negative; 0:Neutral; 1:Positive). \n",
    "\n",
    "<img src='SampleData.png'>"
   ]
  },
  {
   "cell_type": "code",
   "execution_count": 2,
   "metadata": {},
   "outputs": [],
   "source": [
    "Data = pd.read_csv('EC_Data.csv')\n",
    "X = list(Data['Sentence'])\n",
    "Y = Data['MyScore']"
   ]
  },
  {
   "cell_type": "markdown",
   "metadata": {},
   "source": [
    "To see other sentences in the dataset, you can change $index$ below and run the cell to print sentences from X and corresponding labels from Y. "
   ]
  },
  {
   "cell_type": "code",
   "execution_count": 3,
   "metadata": {},
   "outputs": [
    {
     "name": "stdout",
     "output_type": "stream",
     "text": [
      "Our tactical opportunities business raised $700 million during the quarter, had an additional closing in October, which, as Tony mentioned, brought the strategy to $4.4 billion in size, which is really good for a start-up type of business that doesn't fit any particular vertical silo in the institutional community it invests across. 1\n"
     ]
    }
   ],
   "source": [
    "index = 10\n",
    "print(X[index], (Y[index]))"
   ]
  },
  {
   "cell_type": "markdown",
   "metadata": {},
   "source": [
    "### 1.2 - Overview of the Financial-Sentiment-V1\n",
    "\n",
    "In this part, we are going to implement a baseline statistical model called \"Financial-Sentiment-V1\".\n",
    "\n",
    "The input for this case will be any sentence from our dataset (e.g. \"Assets in the private credit industry today total more than $600 billion, up about six fold since the year 2000\"), and the output will be a vector of shape (3,1) where each value will be the probability of the class being true, that is then passed to an argmax layer to extract the index of the most likely output.\n",
    "\n",
    "Being a classification problem, we will convert our labels to normalize them for the softmax classifier. Let's convert $Y$ ($(m, 1)$) into a \"one-hot representation\" $(m, 3)$, where each row is a one-hot vector giving the label of one example."
   ]
  },
  {
   "cell_type": "code",
   "execution_count": 4,
   "metadata": {},
   "outputs": [],
   "source": [
    "LB = LabelBinarizer()\n",
    "LB.fit(Y)\n",
    "Y_OH = LB.transform(Y)"
   ]
  },
  {
   "cell_type": "code",
   "execution_count": 5,
   "metadata": {},
   "outputs": [
    {
     "name": "stdout",
     "output_type": "stream",
     "text": [
      "1 is converted into one hot [0 0 1]\n"
     ]
    }
   ],
   "source": [
    "index = 1\n",
    "print(Y[index], \"is converted into one hot\", Y_OH[index])"
   ]
  },
  {
   "cell_type": "markdown",
   "metadata": {},
   "source": [
    "### 1.3 - Implementing Financial-Sentiment-V1\n"
   ]
  },
  {
   "cell_type": "markdown",
   "metadata": {},
   "source": [
    "### 1.3.1 Feature Representation of Text\n",
    "\n",
    "In almost all NLP tasks, the first step is to convert input text into a representation that the machine can process. There are multiple ways to represent text, some statistical and some contextual. Below we will go through a few ways to represent any text dataset to understand how these work."
   ]
  },
  {
   "cell_type": "markdown",
   "metadata": {},
   "source": [
    "#### Count Vectors\n",
    "\n",
    "At the most basic level, Count Vectors represent the $count$ of each word in an example. We build a dictionary of every word present in the dataset, and then each count vector has the size $(C,1)$, where $C$ is the size of the dictionary. Given such a representation, the words in each sentence are jumbled and thus lose a lot of the contextual information in the data. Let's see an example below."
   ]
  },
  {
   "cell_type": "code",
   "execution_count": 6,
   "metadata": {},
   "outputs": [],
   "source": [
    "count_vect = CountVectorizer(analyzer='word', token_pattern=r'\\w{1,}')\n",
    "\n",
    "# fit the data using count vectorizer object\n",
    "count_vect.fit(X)\n",
    "    \n",
    "# transform the data using count vectorizer object\n",
    "X_count =  count_vect.transform(X)"
   ]
  },
  {
   "cell_type": "markdown",
   "metadata": {},
   "source": [
    "Let's look at what the count vectors look like for a sample of the data."
   ]
  },
  {
   "cell_type": "code",
   "execution_count": 7,
   "metadata": {},
   "outputs": [
    {
     "name": "stdout",
     "output_type": "stream",
     "text": [
      "['Stock markets in the U. S. which initially declined up to 8%, have now recovered in only three weeks to regain record levels.\\nInterest rates have started to decline slowly as market peaks, as investors recognize that the Fed will act with prudence, not to stifle the economic recovery.', 'This receivable, contrary to what you might think, actually increased from the previous year despite our very substantial payout of distributions over the same period.', 'While a challenging single quarter for the industry and for us, on a long-term basis, as Steve have mentioned, BAAM has delivered net returns 50% greater than the market with about one-third of the volatility over the past 15 years.', \"Finally, I'd like to highlight an important emerging dimension confirms business and economic model that is important to consider pertaining to new businesses like Real Estate core+ and Core Private Equity, which together will be approaching $17 billion in the second quarter, up from zero just over two years ago.\", 'Evidencing the carryover of this momentum into 2015, we should point out that realization activity remains robust, as we already have closed or announced $6 billion of realizations in the first few weeks of the first quarter alone.']\n",
      "['15', '17', '2015', '50', '6', '8', 'a', 'about', 'act', 'activity', 'actually', 'ago', 'alone', 'already', 'an', 'and', 'announced', 'approaching', 'as', 'baam', 'basis', 'be', 'billion', 'business', 'businesses', 'carryover', 'challenging', 'closed', 'confirms', 'consider', 'contrary', 'core', 'd', 'decline', 'declined', 'delivered', 'despite', 'dimension', 'distributions', 'economic', 'emerging', 'equity', 'estate', 'evidencing', 'fed', 'few', 'finally', 'first', 'for', 'from', 'greater', 'has', 'have', 'highlight', 'i', 'important', 'in', 'increased', 'industry', 'initially', 'interest', 'into', 'investors', 'is', 'just', 'levels', 'like', 'long', 'market', 'markets', 'mentioned', 'might', 'model', 'momentum', 'net', 'new', 'not', 'now', 'of', 'on', 'one', 'only', 'or', 'our', 'out', 'over', 'past', 'payout', 'peaks', 'period', 'pertaining', 'point', 'previous', 'private', 'prudence', 'quarter', 'rates', 'real', 'realization', 'realizations', 'receivable', 'recognize', 'record', 'recovered', 'recovery', 'regain', 'remains', 'returns', 'robust', 's', 'same', 'second', 'should', 'single', 'slowly', 'started', 'steve', 'stifle', 'stock', 'substantial', 'term', 'than', 'that', 'the', 'think', 'third', 'this', 'three', 'to', 'together', 'two', 'u', 'up', 'us', 'very', 'volatility', 'we', 'weeks', 'what', 'which', 'while', 'will', 'with', 'year', 'years', 'you', 'zero']\n",
      "[[0 0 0 0 0 1 0 0 1 0 0 0 0 0 0 0 0 0 2 0 0 0 0 0 0 0 0 0 0 0 0 0 0 1 1 0\n",
      "  0 0 0 1 0 0 0 0 1 0 0 0 0 0 0 0 2 0 0 0 2 0 0 1 1 0 1 0 0 1 0 0 1 1 0 0\n",
      "  0 0 0 0 1 1 0 0 0 1 0 0 0 0 0 0 1 0 0 0 0 0 1 0 1 0 0 0 0 1 1 1 1 1 0 0\n",
      "  0 1 0 0 0 0 1 1 0 1 1 0 0 0 1 3 0 0 0 1 4 0 0 1 1 0 0 0 0 1 0 1 0 1 1 0\n",
      "  0 0 0]\n",
      " [0 0 0 0 0 0 0 0 0 0 1 0 0 0 0 0 0 0 0 0 0 0 0 0 0 0 0 0 0 0 1 0 0 0 0 0\n",
      "  1 0 1 0 0 0 0 0 0 0 0 0 0 1 0 0 0 0 0 0 0 1 0 0 0 0 0 0 0 0 0 0 0 0 0 1\n",
      "  0 0 0 0 0 0 1 0 0 0 0 1 0 1 0 1 0 1 0 0 1 0 0 0 0 0 0 0 1 0 0 0 0 0 0 0\n",
      "  0 0 1 0 0 0 0 0 0 0 0 1 0 0 0 2 1 0 1 0 1 0 0 0 0 0 1 0 0 0 1 0 0 0 0 1\n",
      "  0 1 0]\n",
      " [1 0 0 1 0 0 2 1 0 0 0 0 0 0 0 1 0 0 1 1 1 0 0 0 0 0 1 0 0 0 0 0 0 0 0 1\n",
      "  0 0 0 0 0 0 0 0 0 0 0 0 2 0 1 1 1 0 0 0 0 0 1 0 0 0 0 0 0 0 0 1 1 0 1 0\n",
      "  0 0 1 0 0 0 1 1 1 0 0 0 0 1 1 0 0 0 0 0 0 0 0 1 0 0 0 0 0 0 0 0 0 0 0 1\n",
      "  0 0 0 0 0 1 0 0 1 0 0 0 1 1 0 4 0 1 0 0 0 0 0 0 0 1 0 1 0 0 0 0 1 0 1 0\n",
      "  1 0 0]\n",
      " [0 1 0 0 0 0 0 0 0 0 0 1 0 0 1 2 0 1 0 0 0 1 1 1 1 0 0 0 1 1 0 2 1 0 0 0\n",
      "  0 1 0 1 1 1 1 0 0 0 1 0 0 1 0 0 0 1 1 2 1 0 0 0 0 0 0 1 1 0 2 0 0 0 0 0\n",
      "  1 0 0 1 0 0 0 0 0 0 0 0 0 1 0 0 0 0 1 0 0 1 0 1 0 1 0 0 0 0 0 0 0 0 0 0\n",
      "  0 0 0 1 0 0 0 0 0 0 0 0 0 0 1 1 0 0 0 0 3 1 1 0 1 0 0 0 0 0 0 1 0 1 0 0\n",
      "  1 0 1]\n",
      " [0 0 1 0 1 0 0 0 0 1 0 0 1 1 0 0 1 0 1 0 0 0 1 0 0 1 0 1 0 0 0 0 0 0 0 0\n",
      "  0 0 0 0 0 0 0 1 0 1 0 2 0 0 0 0 1 0 0 0 1 0 0 0 0 1 0 0 0 0 0 0 0 0 0 0\n",
      "  0 1 0 0 0 0 3 0 0 0 1 0 1 0 0 0 0 0 0 1 0 0 0 1 0 0 1 1 0 0 0 0 0 0 1 0\n",
      "  1 0 0 0 1 0 0 0 0 0 0 0 0 0 1 3 0 0 1 0 0 0 0 0 0 0 0 0 2 1 0 0 0 0 0 0\n",
      "  0 0 0]]\n"
     ]
    }
   ],
   "source": [
    "vectorizer = CountVectorizer(analyzer='word', token_pattern=r'\\w{1,}')\n",
    "Sample_Count = vectorizer.fit_transform(X[:5])\n",
    "print(X[:5])\n",
    "print(vectorizer.get_feature_names())\n",
    "print(Sample_Count.toarray())  "
   ]
  },
  {
   "cell_type": "markdown",
   "metadata": {},
   "source": [
    "#### TF-IDF Vectors\n",
    "\n",
    "Term Frequency - Inverse Document Frequency (TF-IDF) vector representation accounts for the the most commonly occuring words in a document which empirically do not provide much information. We can think of this representation as 'Normalizing the Count Vectors' with respect to the document frequency, where document frequency is the number of documents containing that term out of the total number of documents. \n",
    "\n",
    "For both Count Vectors and TF-IDF Vectors, we can also convert the document based on co-occuring words (n-grams) or even the character level. \n",
    "\n",
    "Let's see an example of TF-IDF Vectors below."
   ]
  },
  {
   "cell_type": "code",
   "execution_count": 8,
   "metadata": {},
   "outputs": [],
   "source": [
    "# word level tf-idf\n",
    "tfidf_vect = TfidfVectorizer(analyzer='word', token_pattern=r'\\w{1,}', max_features=5000)\n",
    "tfidf_vect.fit(X)\n",
    "X_tfidf =  tfidf_vect.transform(X)\n",
    "\n",
    "# ngram level tf-idf \n",
    "tfidf_vect_ngram = TfidfVectorizer(analyzer='word', token_pattern=r'\\w{1,}', ngram_range=(2,3), max_features=5000)\n",
    "tfidf_vect_ngram.fit(X)\n",
    "X_tfidf_ngram =  tfidf_vect_ngram.transform(X)\n",
    "\n",
    "# characters level tf-idf\n",
    "tfidf_vect_ngram_chars = TfidfVectorizer(analyzer='char', token_pattern=r'\\w{1,}', ngram_range=(2,3), max_features=5000)\n",
    "tfidf_vect_ngram_chars.fit(X)\n",
    "X_tfidf_ngram_chars =  tfidf_vect_ngram_chars.transform(X)"
   ]
  },
  {
   "cell_type": "code",
   "execution_count": 9,
   "metadata": {},
   "outputs": [
    {
     "name": "stdout",
     "output_type": "stream",
     "text": [
      "['Stock markets in the U. S. which initially declined up to 8%, have now recovered in only three weeks to regain record levels.\\nInterest rates have started to decline slowly as market peaks, as investors recognize that the Fed will act with prudence, not to stifle the economic recovery.', 'This receivable, contrary to what you might think, actually increased from the previous year despite our very substantial payout of distributions over the same period.', 'While a challenging single quarter for the industry and for us, on a long-term basis, as Steve have mentioned, BAAM has delivered net returns 50% greater than the market with about one-third of the volatility over the past 15 years.', \"Finally, I'd like to highlight an important emerging dimension confirms business and economic model that is important to consider pertaining to new businesses like Real Estate core+ and Core Private Equity, which together will be approaching $17 billion in the second quarter, up from zero just over two years ago.\", 'Evidencing the carryover of this momentum into 2015, we should point out that realization activity remains robust, as we already have closed or announced $6 billion of realizations in the first few weeks of the first quarter alone.']\n",
      "['15', '17', '2015', '50', '6', '8', 'a', 'about', 'act', 'activity', 'actually', 'ago', 'alone', 'already', 'an', 'and', 'announced', 'approaching', 'as', 'baam', 'basis', 'be', 'billion', 'business', 'businesses', 'carryover', 'challenging', 'closed', 'confirms', 'consider', 'contrary', 'core', 'd', 'decline', 'declined', 'delivered', 'despite', 'dimension', 'distributions', 'economic', 'emerging', 'equity', 'estate', 'evidencing', 'fed', 'few', 'finally', 'first', 'for', 'from', 'greater', 'has', 'have', 'highlight', 'i', 'important', 'in', 'increased', 'industry', 'initially', 'interest', 'into', 'investors', 'is', 'just', 'levels', 'like', 'long', 'market', 'markets', 'mentioned', 'might', 'model', 'momentum', 'net', 'new', 'not', 'now', 'of', 'on', 'one', 'only', 'or', 'our', 'out', 'over', 'past', 'payout', 'peaks', 'period', 'pertaining', 'point', 'previous', 'private', 'prudence', 'quarter', 'rates', 'real', 'realization', 'realizations', 'receivable', 'recognize', 'record', 'recovered', 'recovery', 'regain', 'remains', 'returns', 'robust', 's', 'same', 'second', 'should', 'single', 'slowly', 'started', 'steve', 'stifle', 'stock', 'substantial', 'term', 'than', 'that', 'the', 'think', 'third', 'this', 'three', 'to', 'together', 'two', 'u', 'up', 'us', 'very', 'volatility', 'we', 'weeks', 'what', 'which', 'while', 'will', 'with', 'year', 'years', 'you', 'zero']\n",
      "(5, 147)\n",
      "[[0.         0.         0.         0.         0.         0.14493237\n",
      "  0.         0.         0.14493237 0.         0.         0.\n",
      "  0.         0.         0.         0.         0.         0.\n",
      "  0.19412579 0.         0.         0.         0.         0.\n",
      "  0.         0.         0.         0.         0.         0.\n",
      "  0.         0.         0.         0.14493237 0.14493237 0.\n",
      "  0.         0.         0.         0.11693052 0.         0.\n",
      "  0.         0.         0.14493237 0.         0.         0.\n",
      "  0.         0.         0.         0.         0.19412579 0.\n",
      "  0.         0.         0.19412579 0.         0.         0.14493237\n",
      "  0.14493237 0.         0.14493237 0.         0.         0.14493237\n",
      "  0.         0.         0.11693052 0.14493237 0.         0.\n",
      "  0.         0.         0.         0.         0.14493237 0.14493237\n",
      "  0.         0.         0.         0.14493237 0.         0.\n",
      "  0.         0.         0.         0.         0.14493237 0.\n",
      "  0.         0.         0.         0.         0.14493237 0.\n",
      "  0.14493237 0.         0.         0.         0.         0.14493237\n",
      "  0.14493237 0.14493237 0.14493237 0.14493237 0.         0.\n",
      "  0.         0.14493237 0.         0.         0.         0.\n",
      "  0.14493237 0.14493237 0.         0.14493237 0.14493237 0.\n",
      "  0.         0.         0.0970629  0.20718315 0.         0.\n",
      "  0.         0.14493237 0.38825158 0.         0.         0.14493237\n",
      "  0.11693052 0.         0.         0.         0.         0.11693052\n",
      "  0.         0.11693052 0.         0.11693052 0.11693052 0.\n",
      "  0.         0.         0.        ]\n",
      " [0.         0.         0.         0.         0.         0.\n",
      "  0.         0.         0.         0.         0.21538721 0.\n",
      "  0.         0.         0.         0.         0.         0.\n",
      "  0.         0.         0.         0.         0.         0.\n",
      "  0.         0.         0.         0.         0.         0.\n",
      "  0.21538721 0.         0.         0.         0.         0.\n",
      "  0.21538721 0.         0.21538721 0.         0.         0.\n",
      "  0.         0.         0.         0.         0.         0.\n",
      "  0.         0.17377305 0.         0.         0.         0.\n",
      "  0.         0.         0.         0.21538721 0.         0.\n",
      "  0.         0.         0.         0.         0.         0.\n",
      "  0.         0.         0.         0.         0.         0.21538721\n",
      "  0.         0.         0.         0.         0.         0.\n",
      "  0.14424733 0.         0.         0.         0.         0.21538721\n",
      "  0.         0.14424733 0.         0.21538721 0.         0.21538721\n",
      "  0.         0.         0.21538721 0.         0.         0.\n",
      "  0.         0.         0.         0.         0.21538721 0.\n",
      "  0.         0.         0.         0.         0.         0.\n",
      "  0.         0.         0.21538721 0.         0.         0.\n",
      "  0.         0.         0.         0.         0.         0.21538721\n",
      "  0.         0.         0.         0.20526632 0.21538721 0.\n",
      "  0.17377305 0.         0.14424733 0.         0.         0.\n",
      "  0.         0.         0.21538721 0.         0.         0.\n",
      "  0.21538721 0.         0.         0.         0.         0.21538721\n",
      "  0.         0.21538721 0.        ]\n",
      " [0.15526911 0.         0.         0.15526911 0.         0.\n",
      "  0.31053823 0.15526911 0.         0.         0.         0.\n",
      "  0.         0.         0.         0.12527014 0.         0.\n",
      "  0.10398553 0.15526911 0.15526911 0.         0.         0.\n",
      "  0.         0.         0.15526911 0.         0.         0.\n",
      "  0.         0.         0.         0.         0.         0.15526911\n",
      "  0.         0.         0.         0.         0.         0.\n",
      "  0.         0.         0.         0.         0.         0.\n",
      "  0.31053823 0.         0.15526911 0.15526911 0.10398553 0.\n",
      "  0.         0.         0.         0.         0.15526911 0.\n",
      "  0.         0.         0.         0.         0.         0.\n",
      "  0.         0.15526911 0.12527014 0.         0.15526911 0.\n",
      "  0.         0.         0.15526911 0.         0.         0.\n",
      "  0.10398553 0.15526911 0.15526911 0.         0.         0.\n",
      "  0.         0.10398553 0.15526911 0.         0.         0.\n",
      "  0.         0.         0.         0.         0.         0.10398553\n",
      "  0.         0.         0.         0.         0.         0.\n",
      "  0.         0.         0.         0.         0.         0.15526911\n",
      "  0.         0.         0.         0.         0.         0.15526911\n",
      "  0.         0.         0.15526911 0.         0.         0.\n",
      "  0.15526911 0.15526911 0.         0.29594626 0.         0.15526911\n",
      "  0.         0.         0.         0.         0.         0.\n",
      "  0.         0.15526911 0.         0.15526911 0.         0.\n",
      "  0.         0.         0.15526911 0.         0.12527014 0.\n",
      "  0.12527014 0.         0.        ]\n",
      " [0.         0.13707918 0.         0.         0.         0.\n",
      "  0.         0.         0.         0.         0.         0.13707918\n",
      "  0.         0.         0.13707918 0.22118924 0.         0.13707918\n",
      "  0.         0.         0.         0.13707918 0.11059462 0.13707918\n",
      "  0.13707918 0.         0.         0.         0.13707918 0.13707918\n",
      "  0.         0.27415836 0.13707918 0.         0.         0.\n",
      "  0.         0.13707918 0.         0.11059462 0.13707918 0.13707918\n",
      "  0.13707918 0.         0.         0.         0.13707918 0.\n",
      "  0.         0.11059462 0.         0.         0.         0.13707918\n",
      "  0.13707918 0.27415836 0.09180352 0.         0.         0.\n",
      "  0.         0.         0.         0.13707918 0.13707918 0.\n",
      "  0.27415836 0.         0.         0.         0.         0.\n",
      "  0.13707918 0.         0.         0.13707918 0.         0.\n",
      "  0.         0.         0.         0.         0.         0.\n",
      "  0.         0.09180352 0.         0.         0.         0.\n",
      "  0.13707918 0.         0.         0.13707918 0.         0.09180352\n",
      "  0.         0.13707918 0.         0.         0.         0.\n",
      "  0.         0.         0.         0.         0.         0.\n",
      "  0.         0.         0.         0.13707918 0.         0.\n",
      "  0.         0.         0.         0.         0.         0.\n",
      "  0.         0.         0.09180352 0.06531896 0.         0.\n",
      "  0.         0.         0.27541057 0.13707918 0.13707918 0.\n",
      "  0.11059462 0.         0.         0.         0.         0.\n",
      "  0.         0.11059462 0.         0.11059462 0.         0.\n",
      "  0.11059462 0.         0.13707918]\n",
      " [0.         0.         0.16163664 0.         0.16163664 0.\n",
      "  0.         0.         0.         0.16163664 0.         0.\n",
      "  0.16163664 0.16163664 0.         0.         0.16163664 0.\n",
      "  0.10824994 0.         0.         0.         0.13040742 0.\n",
      "  0.         0.16163664 0.         0.16163664 0.         0.\n",
      "  0.         0.         0.         0.         0.         0.\n",
      "  0.         0.         0.         0.         0.         0.\n",
      "  0.         0.16163664 0.         0.16163664 0.         0.32327328\n",
      "  0.         0.         0.         0.         0.10824994 0.\n",
      "  0.         0.         0.10824994 0.         0.         0.\n",
      "  0.         0.16163664 0.         0.         0.         0.\n",
      "  0.         0.         0.         0.         0.         0.\n",
      "  0.         0.16163664 0.         0.         0.         0.\n",
      "  0.32474982 0.         0.         0.         0.16163664 0.\n",
      "  0.16163664 0.         0.         0.         0.         0.\n",
      "  0.         0.16163664 0.         0.         0.         0.10824994\n",
      "  0.         0.         0.16163664 0.16163664 0.         0.\n",
      "  0.         0.         0.         0.         0.16163664 0.\n",
      "  0.16163664 0.         0.         0.         0.16163664 0.\n",
      "  0.         0.         0.         0.         0.         0.\n",
      "  0.         0.         0.10824994 0.23106217 0.         0.\n",
      "  0.13040742 0.         0.         0.         0.         0.\n",
      "  0.         0.         0.         0.         0.32327328 0.13040742\n",
      "  0.         0.         0.         0.         0.         0.\n",
      "  0.         0.         0.        ]]\n"
     ]
    }
   ],
   "source": [
    "# word level tf-idf\n",
    "vectorizer = TfidfVectorizer(analyzer='word', token_pattern=r'\\w{1,}', max_features=5000)\n",
    "Sample_Count = vectorizer.fit_transform(X[:5])\n",
    "print(X[:5])\n",
    "print(vectorizer.get_feature_names())\n",
    "print(Sample_Count.shape)\n",
    "print(Sample_Count.toarray())  "
   ]
  },
  {
   "cell_type": "code",
   "execution_count": 10,
   "metadata": {},
   "outputs": [
    {
     "name": "stdout",
     "output_type": "stream",
     "text": [
      "['Stock markets in the U. S. which initially declined up to 8%, have now recovered in only three weeks to regain record levels.\\nInterest rates have started to decline slowly as market peaks, as investors recognize that the Fed will act with prudence, not to stifle the economic recovery.', 'This receivable, contrary to what you might think, actually increased from the previous year despite our very substantial payout of distributions over the same period.', 'While a challenging single quarter for the industry and for us, on a long-term basis, as Steve have mentioned, BAAM has delivered net returns 50% greater than the market with about one-third of the volatility over the past 15 years.', \"Finally, I'd like to highlight an important emerging dimension confirms business and economic model that is important to consider pertaining to new businesses like Real Estate core+ and Core Private Equity, which together will be approaching $17 billion in the second quarter, up from zero just over two years ago.\", 'Evidencing the carryover of this momentum into 2015, we should point out that realization activity remains robust, as we already have closed or announced $6 billion of realizations in the first few weeks of the first quarter alone.']\n",
      "['15 years', '17 billion', '17 billion in', '2015 we', '2015 we should', '50 greater', '50 greater than', '6 billion', '6 billion of', '8 have', '8 have now', 'a challenging', 'a challenging single', 'a long', 'a long term', 'about one', 'about one third', 'act with', 'act with prudence', 'activity remains', 'activity remains robust', 'actually increased', 'actually increased from', 'already have', 'already have closed', 'an important', 'an important emerging', 'and core', 'and core private', 'and economic', 'and economic model', 'and for', 'and for us', 'announced 6', 'announced 6 billion', 'approaching 17', 'approaching 17 billion', 'as investors', 'as investors recognize', 'as market', 'as market peaks', 'as steve', 'as steve have', 'as we', 'as we already', 'baam has', 'baam has delivered', 'basis as', 'basis as steve', 'be approaching', 'be approaching 17', 'billion in', 'billion in the', 'billion of', 'billion of realizations', 'business and', 'business and economic', 'businesses like', 'businesses like real', 'carryover of', 'carryover of this', 'challenging single', 'challenging single quarter', 'closed or', 'closed or announced', 'confirms business', 'confirms business and', 'consider pertaining', 'consider pertaining to', 'contrary to', 'contrary to what', 'core and', 'core and core', 'core private', 'core private equity', 'd like', 'd like to', 'decline slowly', 'decline slowly as', 'declined up', 'declined up to', 'delivered net', 'delivered net returns', 'despite our', 'despite our very', 'dimension confirms', 'dimension confirms business', 'distributions over', 'distributions over the', 'economic model', 'economic model that', 'economic recovery', 'emerging dimension', 'emerging dimension confirms', 'equity which', 'equity which together', 'estate core', 'estate core and', 'evidencing the', 'evidencing the carryover', 'fed will', 'fed will act', 'few weeks', 'few weeks of', 'finally i', 'finally i d', 'first few', 'first few weeks', 'first quarter', 'first quarter alone', 'for the', 'for the industry', 'for us', 'for us on', 'from the', 'from the previous', 'from zero', 'from zero just', 'greater than', 'greater than the', 'has delivered', 'has delivered net', 'have closed', 'have closed or', 'have mentioned', 'have mentioned baam', 'have now', 'have now recovered', 'have started', 'have started to', 'highlight an', 'highlight an important', 'i d', 'i d like', 'important emerging', 'important emerging dimension', 'important to', 'important to consider', 'in only', 'in only three', 'in the', 'in the first', 'in the second', 'in the u', 'increased from', 'increased from the', 'industry and', 'industry and for', 'initially declined', 'initially declined up', 'interest rates', 'interest rates have', 'into 2015', 'into 2015 we', 'investors recognize', 'investors recognize that', 'is important', 'is important to', 'just over', 'just over two', 'levels interest', 'levels interest rates', 'like real', 'like real estate', 'like to', 'like to highlight', 'long term', 'long term basis', 'market peaks', 'market peaks as', 'market with', 'market with about', 'markets in', 'markets in the', 'mentioned baam', 'mentioned baam has', 'might think', 'might think actually', 'model that', 'model that is', 'momentum into', 'momentum into 2015', 'net returns', 'net returns 50', 'new businesses', 'new businesses like', 'not to', 'not to stifle', 'now recovered', 'now recovered in', 'of distributions', 'of distributions over', 'of realizations', 'of realizations in', 'of the', 'of the first', 'of the volatility', 'of this', 'of this momentum', 'on a', 'on a long', 'one third', 'one third of', 'only three', 'only three weeks', 'or announced', 'or announced 6', 'our very', 'our very substantial', 'out that', 'out that realization', 'over the', 'over the past', 'over the same', 'over two', 'over two years', 'past 15', 'past 15 years', 'payout of', 'payout of distributions', 'peaks as', 'peaks as investors', 'pertaining to', 'pertaining to new', 'point out', 'point out that', 'previous year', 'previous year despite', 'private equity', 'private equity which', 'prudence not', 'prudence not to', 'quarter alone', 'quarter for', 'quarter for the', 'quarter up', 'quarter up from', 'rates have', 'rates have started', 'real estate', 'real estate core', 'realization activity', 'realization activity remains', 'realizations in', 'realizations in the', 'receivable contrary', 'receivable contrary to', 'recognize that', 'recognize that the', 'record levels', 'record levels interest', 'recovered in', 'recovered in only', 'regain record', 'regain record levels', 'remains robust', 'remains robust as', 'returns 50', 'returns 50 greater', 'robust as', 'robust as we', 's which', 's which initially', 'same period', 'second quarter', 'second quarter up', 'should point', 'should point out', 'single quarter', 'single quarter for', 'slowly as', 'slowly as market', 'started to', 'started to decline', 'steve have', 'steve have mentioned', 'stifle the', 'stifle the economic', 'stock markets', 'stock markets in', 'substantial payout', 'substantial payout of', 'term basis', 'term basis as', 'than the', 'than the market', 'that is', 'that is important', 'that realization', 'that realization activity', 'that the', 'that the fed', 'the carryover', 'the carryover of', 'the economic', 'the economic recovery', 'the fed', 'the fed will', 'the first', 'the first few', 'the first quarter', 'the industry', 'the industry and', 'the market', 'the market with', 'the past', 'the past 15', 'the previous', 'the previous year', 'the same', 'the same period', 'the second', 'the second quarter', 'the u', 'the u s', 'the volatility', 'the volatility over', 'think actually', 'think actually increased', 'third of', 'third of the', 'this momentum', 'this momentum into', 'this receivable', 'this receivable contrary', 'three weeks', 'three weeks to', 'to 8', 'to 8 have', 'to consider', 'to consider pertaining', 'to decline', 'to decline slowly', 'to highlight', 'to highlight an', 'to new', 'to new businesses', 'to regain', 'to regain record', 'to stifle', 'to stifle the', 'to what', 'to what you', 'together will', 'together will be', 'two years', 'two years ago', 'u s', 'u s which', 'up from', 'up from zero', 'up to', 'up to 8', 'us on', 'us on a', 'very substantial', 'very substantial payout', 'volatility over', 'volatility over the', 'we already', 'we already have', 'we should', 'we should point', 'weeks of', 'weeks of the', 'weeks to', 'weeks to regain', 'what you', 'what you might', 'which initially', 'which initially declined', 'which together', 'which together will', 'while a', 'while a challenging', 'will act', 'will act with', 'will be', 'will be approaching', 'with about', 'with about one', 'with prudence', 'with prudence not', 'year despite', 'year despite our', 'years ago', 'you might', 'you might think', 'zero just', 'zero just over']\n",
      "(5, 390)\n",
      "[[0.         0.         0.         ... 0.         0.         0.        ]\n",
      " [0.         0.         0.         ... 0.14640972 0.         0.        ]\n",
      " [0.11159308 0.         0.         ... 0.         0.         0.        ]\n",
      " [0.         0.10078489 0.10078489 ... 0.         0.10078489 0.10078489]\n",
      " [0.         0.         0.         ... 0.         0.         0.        ]]\n"
     ]
    }
   ],
   "source": [
    "# ngram level tf-idf\n",
    "vectorizer = TfidfVectorizer(analyzer='word', token_pattern=r'\\w{1,}', ngram_range=(2,3), max_features=5000)\n",
    "Sample_Count = vectorizer.fit_transform(X[:5])\n",
    "print(X[:5])\n",
    "print(vectorizer.get_feature_names())\n",
    "print(Sample_Count.shape)\n",
    "print(Sample_Count.toarray())  "
   ]
  },
  {
   "cell_type": "code",
   "execution_count": 11,
   "metadata": {},
   "outputs": [
    {
     "name": "stdout",
     "output_type": "stream",
     "text": [
      "['Stock markets in the U. S. which initially declined up to 8%, have now recovered in only three weeks to regain record levels.\\nInterest rates have started to decline slowly as market peaks, as investors recognize that the Fed will act with prudence, not to stifle the economic recovery.', 'This receivable, contrary to what you might think, actually increased from the previous year despite our very substantial payout of distributions over the same period.', 'While a challenging single quarter for the industry and for us, on a long-term basis, as Steve have mentioned, BAAM has delivered net returns 50% greater than the market with about one-third of the volatility over the past 15 years.', \"Finally, I'd like to highlight an important emerging dimension confirms business and economic model that is important to consider pertaining to new businesses like Real Estate core+ and Core Private Equity, which together will be approaching $17 billion in the second quarter, up from zero just over two years ago.\", 'Evidencing the carryover of this momentum into 2015, we should point out that realization activity remains robust, as we already have closed or announced $6 billion of realizations in the first few weeks of the first quarter alone.']\n",
      "['\\ni', '\\nin', ' $', ' $1', ' $6', ' 1', ' 15', ' 2', ' 20', ' 5', ' 50', ' 8', ' 8%', ' a', ' a ', ' ab', ' ac', ' ag', ' al', ' an', ' ap', ' as', ' b', ' ba', ' be', ' bi', ' bu', ' c', ' ca', ' ch', ' cl', ' co', ' d', ' de', ' di', ' e', ' ec', ' em', ' eq', ' es', ' f', ' fe', ' fi', ' fo', ' fr', ' g', ' gr', ' h', ' ha', ' hi', ' i', \" i'\", ' im', ' in', ' is', ' j', ' ju', ' l', ' le', ' li', ' lo', ' m', ' ma', ' me', ' mi', ' mo', ' n', ' ne', ' no', ' o', ' of', ' on', ' or', ' ou', ' ov', ' p', ' pa', ' pe', ' po', ' pr', ' q', ' qu', ' r', ' ra', ' re', ' ro', ' s', ' s.', ' sa', ' se', ' sh', ' si', ' sl', ' st', ' su', ' t', ' th', ' to', ' tw', ' u', ' u.', ' up', ' us', ' v', ' ve', ' vo', ' w', ' we', ' wh', ' wi', ' y', ' ye', ' yo', ' z', ' ze', '$1', '$17', '$6', '$6 ', '% ', '% g', '%,', '%, ', \"'d\", \"'d \", '+ ', '+ a', ', ', ', a', ', b', ', c', ', h', ', i', ', n', ', o', ', u', ', w', '-t', '-te', '-th', '.\\n', '.\\ni', '. ', '. s', '. w', '0%', '0% ', '01', '015', '15', '15 ', '15,', '17', '17 ', '20', '201', '5 ', '5 y', '5,', '5, ', '50', '50%', '6 ', '6 b', '7 ', '7 b', '8%', '8%,', 'a ', 'a c', 'a l', 'aa', 'aam', 'ab', 'abl', 'abo', 'ac', 'ach', 'act', 'ad', 'ady', 'ag', 'ago', 'ai', 'ain', 'ak', 'aks', 'al', 'al ', 'ali', 'all', 'alo', 'alr', 'am', 'am ', 'ame', 'an', 'an ', 'and', 'ann', 'ant', 'ap', 'app', 'ar', 'ar ', 'ark', 'arr', 'ars', 'art', 'ary', 'as', 'as ', 'ase', 'asi', 'ast', 'at', 'at ', 'ate', 'ati', 'av', 'ave', 'ay', 'ayo', 'ba', 'baa', 'bas', 'be', 'be ', 'bi', 'bil', 'bl', 'ble', 'bo', 'bou', 'bs', 'bst', 'bu', 'bus', 'but', 'c ', 'c m', 'c r', 'ca', 'car', 'ce', 'ce,', 'ced', 'cei', 'ch', 'ch ', 'cha', 'chi', 'ci', 'cin', 'ck', 'ck ', 'cl', 'cli', 'clo', 'co', 'cog', 'con', 'cor', 'cov', 'cr', 'cre', 'ct', 'ct ', 'cti', 'ctu', 'd ', 'd $', 'd c', 'd e', 'd f', 'd i', 'd l', 'd n', 'd o', 'd p', 'd q', 'd t', 'd u', 'd w', 'd,', 'd, ', 'd.', 'de', 'dec', 'del', 'den', 'der', 'des', 'di', 'dim', 'dis', 'du', 'dus', 'dy', 'dy ', 'e ', 'e a', 'e c', 'e e', 'e f', 'e h', 'e i', 'e m', 'e n', 'e o', 'e p', 'e q', 'e r', 'e s', 'e t', 'e u', 'e v', 'e w', 'e+', 'e+ ', 'e,', 'e, ', 'e-', 'e-t', 'e.', 'ea', 'ead', 'eak', 'eal', 'ear', 'eas', 'eat', 'ec', 'ece', 'ecl', 'eco', 'ed', 'ed ', 'ed,', 'ee', 'ee ', 'eek', 'eg', 'ega', 'ei', 'eiv', 'ek', 'eks', 'el', 'el ', 'eli', 'els', 'em', 'ema', 'eme', 'en', 'enc', 'eng', 'ens', 'ent', 'eq', 'equ', 'er', 'er ', 'er,', 'ere', 'erg', 'eri', 'erm', 'ero', 'ert', 'ery', 'es', 'es ', 'esp', 'ess', 'est', 'et', 'et ', 'eth', 'ets', 'etu', 'ev', 'eve', 'evi', 'ew', 'ew ', 'f ', 'f d', 'f r', 'f t', 'fe', 'fed', 'few', 'fi', 'fin', 'fir', 'fl', 'fle', 'fo', 'for', 'fr', 'fro', 'g ', 'g $', 'g d', 'g s', 'g t', 'g-', 'g-t', 'ga', 'gai', 'ge', 'get', 'gh', 'ghl', 'ght', 'gi', 'gin', 'gl', 'gle', 'gn', 'gni', 'go', 'go.', 'gr', 'gre', 'h ', 'h a', 'h i', 'h p', 'h t', 'ha', 'hal', 'han', 'has', 'hat', 'hav', 'he', 'he ', 'her', 'hi', 'hic', 'hig', 'hil', 'hin', 'hir', 'his', 'hl', 'hli', 'ho', 'hou', 'hr', 'hre', 'ht', 'ht ', \"i'\", \"i'd\", 'ia', 'ial', 'ib', 'ibu', 'ic', 'ic ', 'ich', 'id', 'ide', 'if', 'ifl', 'ig', 'igh', 'ik', 'ike', 'il', 'ile', 'ili', 'ill', 'im', 'ime', 'imp', 'in', 'in ', 'ina', 'inc', 'ind', 'ine', 'ing', 'ini', 'ink', 'ins', 'int', 'inv', 'io', 'iod', 'ion', 'iou', 'ir', 'ird', 'irm', 'irs', 'is', 'is ', 'is,', 'ist', 'it', 'ite', 'ith', 'iti', 'ity', 'iv', 'iva', 'ive', 'ivi', 'iz', 'iza', 'ize', 'ju', 'jus', 'k ', 'k m', 'k,', 'k, ', 'ke', 'ke ', 'ket', 'ks', 'ks ', 'ks,', 'l ', 'l a', 'l b', 'l e', 'l p', 'l t', 'la', 'lat', 'ld', 'ld ', 'le', 'le ', 'le,', 'len', 'lev', 'li', 'lig', 'lik', 'lin', 'lio', 'lit', 'liv', 'liz', 'll', 'll ', 'lle', 'lli', 'lly', 'lo', 'lon', 'los', 'low', 'lr', 'lre', 'ls', 'ls.', 'ly', 'ly ', 'ly,', 'm ', 'm b', 'm h', 'm i', 'm t', 'm z', 'ma', 'mai', 'mar', 'me', 'me ', 'men', 'mer', 'mi', 'mic', 'mig', 'mo', 'mod', 'mom', 'mp', 'mpo', 'ms', 'ms ', 'n ', 'n a', 'n c', 'n i', 'n o', 'n r', 'n t', 'na', 'nal', 'nc', 'nce', 'nci', 'ncr', 'nd', 'nd ', 'ndu', 'ne', 'ne ', 'ne-', 'ne.', 'ned', 'nes', 'net', 'new', 'nf', 'nfi', 'ng', 'ng ', 'ng-', 'ngi', 'ngl', 'ni', 'nin', 'nit', 'niz', 'nk', 'nk,', 'nl', 'nly', 'nn', 'nno', 'no', 'nom', 'not', 'nou', 'now', 'ns', 'ns ', 'nsi', 'nt', 'nt ', 'nte', 'nti', 'nto', 'ntr', 'ntu', 'nv', 'nve', 'o ', 'o 2', 'o 8', 'o c', 'o d', 'o h', 'o j', 'o n', 'o r', 'o s', 'o w', 'o y', 'o.', 'oa', 'oac', 'ob', 'obu', 'oc', 'ock', 'od', 'od.', 'ode', 'of', 'of ', 'og', 'oge', 'ogn', 'oi', 'oin', 'ol', 'ola', 'om', 'om ', 'ome', 'omi', 'on', 'on ', 'ond', 'one', 'onf', 'ong', 'onl', 'ono', 'ons', 'ont', 'or', 'or ', 'ord', 'ore', 'ors', 'ort', 'os', 'ose', 'ot', 'ot ', 'ou', 'ou ', 'oul', 'oun', 'our', 'ous', 'out', 'ov', 'ove', 'ow', 'ow ', 'owl', 'p ', 'p f', 'p t', 'pa', 'pas', 'pay', 'pe', 'pea', 'per', 'pi', 'pit', 'po', 'poi', 'por', 'pp', 'ppr', 'pr', 'pre', 'pri', 'pro', 'pru', 'qu', 'qua', 'qui', 'r ', 'r a', 'r d', 'r f', 'r o', 'r p', 'r t', 'r u', 'r v', 'r w', 'r,', 'r, ', 'ra', 'rar', 'rat', 'rd', 'rd ', 're', 're ', 're+', 'rea', 'rec', 'red', 'ree', 'reg', 'rem', 'res', 'ret', 'rev', 'rg', 'rgi', 'ri', 'rib', 'rio', 'riv', 'rk', 'rke', 'rm', 'rm ', 'rms', 'rn', 'rns', 'ro', 'ro ', 'roa', 'rob', 'rom', 'rr', 'rry', 'rs', 'rs ', 'rs.', 'rst', 'rt', 'rta', 'rte', 'ru', 'rud', 'ry', 'ry ', 'ry.', 'ryo', 's ', 's 5', 's a', 's b', 's d', 's h', 's i', 's l', 's m', 's o', 's r', 's s', 's t', 's w', 's y', 's,', 's, ', 's.', 's.\\n', 's. ', 'sa', 'sam', 'se', 'sec', 'sed', 'ses', 'sh', 'sho', 'si', 'sid', 'sin', 'sio', 'sis', 'sl', 'slo', 'sp', 'spi', 'ss', 'ss ', 'sse', 'st', 'st ', 'st,', 'sta', 'ste', 'sti', 'sto', 'str', 'su', 'sub', 't ', 't 1', 't a', 't e', 't f', 't i', 't o', 't p', 't q', 't r', 't t', 't w', 't y', 't,', 't, ', 'ta', 'tai', 'tan', 'tar', 'tat', 'te', 'te ', 'ted', 'ter', 'tes', 'tev', 'th', 'th ', 'tha', 'the', 'thi', 'thr', 'ti', 'tia', 'tif', 'til', 'tio', 'tiv', 'to', 'to ', 'toc', 'tog', 'tor', 'tr', 'tra', 'tri', 'try', 'ts', 'ts ', 'tu', 'tua', 'tum', 'tur', 'tw', 'two', 'ty', 'ty ', 'ty,', 'u ', 'u m', 'u.', 'u. ', 'ua', 'ual', 'uar', 'ub', 'ubs', 'ud', 'ude', 'ui', 'uit', 'ul', 'uld', 'um', 'um ', 'un', 'unc', 'up', 'up ', 'ur', 'ur ', 'urn', 'us', 'us ', 'us,', 'usi', 'ust', 'ut', 'ut ', 'uti', 'va', 'vab', 'vat', 've', 've ', 'vel', 'ver', 'ves', 'vi', 'vid', 'vio', 'vit', 'vo', 'vol', 'w ', 'w b', 'w r', 'w w', 'we', 'we ', 'wee', 'wh', 'wha', 'whi', 'wi', 'wil', 'wit', 'wl', 'wly', 'wo', 'wo ', 'y ', 'y a', 'y d', 'y h', 'y i', 'y o', 'y r', 'y s', 'y t', 'y,', 'y, ', 'y.', 'ye', 'yea', 'yo', 'you', 'yov', 'za', 'zat', 'ze', 'ze ', 'zer']\n",
      "(5, 994)\n",
      "[[0.04046162 0.04046162 0.         ... 0.03264418 0.04046162 0.        ]\n",
      " [0.         0.         0.         ... 0.         0.         0.        ]\n",
      " [0.         0.         0.         ... 0.         0.         0.        ]\n",
      " [0.         0.         0.03082208 ... 0.03082208 0.         0.03820317]\n",
      " [0.         0.         0.0400856  ... 0.         0.         0.        ]]\n"
     ]
    }
   ],
   "source": [
    "# characters level tf-idf\n",
    "vectorizer = TfidfVectorizer(analyzer='char', token_pattern=r'\\w{1,}', ngram_range=(2,3), max_features=5000)\n",
    "Sample_Count = vectorizer.fit_transform(X[:5])\n",
    "print(X[:5])\n",
    "print(vectorizer.get_feature_names())\n",
    "print(Sample_Count.shape)\n",
    "print(Sample_Count.toarray())  "
   ]
  },
  {
   "cell_type": "markdown",
   "metadata": {},
   "source": [
    "#### Word Embeddings\n",
    "Word embeddings are generally obtained by building a network that can predict the next word, given a part of the sentence. Therefore, these word embeddings generally have contextual meaning hidden in them. Given properly trained word embeddings, they are able to capture similarities between different words. For example, $King:Queen::Man:?$ should produce $Woman$. Thus these word embeddings provide much more meaning to the represetation ofthe dataset. \n",
    "\n",
    "Below, we will use pretrained 50-dimensional GloVe embeddings for our task (Jeffrey Pennington, Richard Socher, and Christopher D. Manning. 2014. GloVe: Global Vectors for Word Representation.). Run the following cell to load the pre-trained word-vector representations."
   ]
  },
  {
   "cell_type": "code",
   "execution_count": 12,
   "metadata": {},
   "outputs": [],
   "source": [
    "glove_file = '/srv/data/shared_data/glove.6B.50d.txt'\n",
    "with open(glove_file, 'r') as f:\n",
    "    words = set()\n",
    "    word_embedding = {}\n",
    "    for line in f:\n",
    "        line = line.strip().split()\n",
    "        curr_word = line[0]\n",
    "        words.add(curr_word)\n",
    "        word_embedding[curr_word] = np.array(line[1:], dtype=np.float64)\n",
    "        \n",
    "    i = 1\n",
    "    word_to_index = {}\n",
    "    index_to_word = {}\n",
    "    for w in sorted(words):\n",
    "        word_to_index[w] = i\n",
    "        index_to_word[i] = w\n",
    "        i = i + 1"
   ]
  },
  {
   "cell_type": "markdown",
   "metadata": {},
   "source": [
    "We also need to clean up the text to remove unnecessary characters in the data, as well as standardize the data with respect to textcase. The function below implements this."
   ]
  },
  {
   "cell_type": "code",
   "execution_count": 13,
   "metadata": {},
   "outputs": [],
   "source": [
    "def clean_document(s):\n",
    "    punctuation = string.punctuation.replace(\"$\",\"\")\n",
    "    punctuation = punctuation.replace(\"%\",\"\")\n",
    "    punctuation = punctuation.replace(\".\",\"\")\n",
    "    regex = re.compile('[%s]' % re.escape(punctuation + '\\n\\n' + '\\t\\t'))\n",
    "    doco_clean = regex.sub('', s)\n",
    "    doco_clean = doco_clean.split(' ');\n",
    "    doco_clean = [word.lower() for word in doco_clean if len(word) > 0];\n",
    "    return doco_clean;\n",
    "\n",
    "# X_train_clean = [clean_document(doc) for doc in X_train];\n",
    "# sentences = [' '.join(r) for r in X_train_clean]"
   ]
  },
  {
   "cell_type": "markdown",
   "metadata": {},
   "source": [
    "### 1.3.2 The Model for Financial-Sentiment-V1\n",
    "\n",
    "The model below converts each word in a sentence in to the respective word embedding vectors and averages them out. This is a very basic model where we will see that a Bag-Of-Words approach again loses the context in the data, since the averaging of all vectors does not keep the ordering of words in place. Therefore, while the word embeddings themselves were useful, averaging them out loses information.\n",
    "\n",
    "\n",
    "<img src='BOW.png'>"
   ]
  },
  {
   "cell_type": "code",
   "execution_count": 14,
   "metadata": {},
   "outputs": [],
   "source": [
    "def sentence_to_avg(sentence, word_embedding):\n",
    "    \n",
    "    # Step 1: Clean the sentence for unwanted punctuations\n",
    "    clean_sentence = clean_document(sentence)\n",
    "    clean_sentence = ' '.join(clean_sentence)\n",
    "    # Step 2: Split sentence into list of words\n",
    "    words = [i for i in clean_sentence.split()]\n",
    "\n",
    "    # Initialize the average word vector, should have the same shape as your word vectors.\n",
    "    average = np.zeros((50,))\n",
    "    \n",
    "    # Step 3: average the word vectors. You can loop over the words in the list \"words\".\n",
    "    for w in words:\n",
    "        if w in word_embedding:\n",
    "            average += word_embedding[w]\n",
    "    average = average / len(words)\n",
    "    \n",
    "    return average"
   ]
  },
  {
   "cell_type": "code",
   "execution_count": 15,
   "metadata": {},
   "outputs": [
    {
     "name": "stdout",
     "output_type": "stream",
     "text": [
      "avg =  [ 2.64902308e-01  1.45035500e-01  1.40768500e-01 -5.77296154e-03\n",
      "  2.97257077e-01  8.34514500e-02 -4.75478423e-01 -2.65197423e-01\n",
      " -1.45426370e-01  1.20134615e-03 -4.05727462e-02  4.15633077e-02\n",
      " -2.78618077e-01 -9.12963808e-02  3.13416942e-01  5.37289654e-02\n",
      " -2.02430000e-02  4.44280846e-02 -4.64849692e-01 -3.29448269e-01\n",
      "  4.28170962e-01 -6.75948077e-02  1.20117192e-01 -2.89347923e-01\n",
      " -1.50628154e-01 -1.16545188e+00  1.77425769e-02 -3.76511154e-02\n",
      "  2.36206500e-01 -5.53782308e-02  3.01640269e+00  2.41809808e-01\n",
      " -1.87470654e-01  3.12881292e-02  1.93360678e-01 -9.07223500e-02\n",
      " -2.62022692e-02  2.14551231e-01  1.69832423e-01 -1.60678000e-01\n",
      " -1.13780462e-01 -9.68511538e-02  1.06261077e-01 -2.26087308e-02\n",
      " -2.28774135e-01  1.22468462e-01 -8.57689269e-02  2.08614577e-01\n",
      " -3.19323462e-02  3.62710769e-02]\n"
     ]
    }
   ],
   "source": [
    "avg = sentence_to_avg(\"We completed two acquisitions during the year adding a 3 million gallon motor-fuel business to our mix and a bolt-on acquisition to our Cylinder Exchange program.\", word_embedding)\n",
    "print(\"avg = \", avg)"
   ]
  },
  {
   "cell_type": "code",
   "execution_count": 16,
   "metadata": {},
   "outputs": [],
   "source": [
    "def model(x, y, word_embedding, learning_rate = 0.1, num_iterations = 500):\n",
    "    \n",
    "    np.random.seed(1)\n",
    "\n",
    "    m = y.shape[0]                          # number of training examples\n",
    "    n_y = 3                                 # number of classes  \n",
    "    n_h = 50                                # dimensions of the GloVe vectors \n",
    "    \n",
    "    # Initialize parameters using Xavier initialization\n",
    "    W = np.random.randn(n_h, n_y) / np.sqrt(n_h)\n",
    "    b = np.zeros((n_y,1))\n",
    "    \n",
    "    costs = []\n",
    "    \n",
    "    avg = np.zeros((m, n_h))\n",
    "    for i in range(m): # Loop over the training examples\n",
    "        # Average the word vectors of the words from the i'th training example\n",
    "        q = sentence_to_avg(x[i], word_embedding)\n",
    "        avg[i,:] = q.T\n",
    "    \n",
    "    # Optimization\n",
    "    for t in range(num_iterations):     # Loop over the number of iterations\n",
    "            \n",
    "        # Forward propagation\n",
    "        z = np.dot(avg, W) + b.T\n",
    "        a = softmax(z, axis = 1)\n",
    "\n",
    "        # Compute total cost using cross-entropy loss function\n",
    "        cost = (-1 / m) * np.sum(y * np.log(a))\n",
    "        costs.append(cost)\n",
    "            \n",
    "        # Compute gradients             \n",
    "        grad_W = (-1 / m) * np.dot(avg.T,(y - a))\n",
    "        grad_b = (-1 / m) * np.sum(y - a)\n",
    "\n",
    "        # Update parameters with Batch Gradient Descent, that takes advantage of SIMD\n",
    "        W = W - learning_rate * grad_W\n",
    "        b = b - learning_rate * grad_b\n",
    "        \n",
    "        if t % 100 == 0:\n",
    "            print(\"Epoch: \" + str(t) + \" --- cost = \" + str(cost))\n",
    "            pred = predict(x, y, W, b, word_embedding)\n",
    "    \n",
    "    figure(num=None, figsize=(8, 6), dpi=80, facecolor='w', edgecolor='k')\n",
    "    plt.plot(costs)\n",
    "    plt.xlabel('Iterations')\n",
    "    plt.ylabel('Costs')\n",
    "    \n",
    "    return pred, W, b"
   ]
  },
  {
   "cell_type": "code",
   "execution_count": 17,
   "metadata": {},
   "outputs": [],
   "source": [
    "def predict(x, y, W, b, word_embedding):\n",
    "\n",
    "    m = len(x)\n",
    "    pred = np.zeros((m, 1))\n",
    "    Y_value = np.zeros((m, 1))\n",
    "    \n",
    "    for j in range(m):                       # Loop over training examples\n",
    "        \n",
    "        # Clean the sentence for unwanted punctuations\n",
    "        clean_sentence = clean_document(x[j])\n",
    "        clean_sentence = ' '.join(clean_sentence)\n",
    "        # Step 2: Split sentence into list of words\n",
    "        words = [i for i in clean_sentence.split()]\n",
    "        \n",
    "        # Average words' vectors\n",
    "        avg = np.zeros((50,))\n",
    "        for w in words:\n",
    "            if w in word_embedding:\n",
    "                avg += word_embedding[w]\n",
    "        avg = avg/len(words)\n",
    "\n",
    "        # Forward propagation\n",
    "        Z = np.dot(avg.T, W) + b.T\n",
    "        A = softmax(Z)\n",
    "        pred[j] = np.argmax(A)\n",
    "        Y_value[j] = np.argmax(y[j])\n",
    "        \n",
    "    pred[pred == 0] = -1\n",
    "    pred[pred == 1] = 0\n",
    "    pred[pred == 2] = 1\n",
    "    \n",
    "    Y_value[Y_value == 0] = -1\n",
    "    Y_value[Y_value == 1] = 0\n",
    "    Y_value[Y_value == 2] = 1\n",
    "        \n",
    "    print(\"Accuracy: \"  + str(np.mean((pred[:] == Y_value.reshape(Y_value.shape[0],1)[:]))))\n",
    "    \n",
    "    return pred"
   ]
  },
  {
   "cell_type": "code",
   "execution_count": 18,
   "metadata": {},
   "outputs": [
    {
     "name": "stdout",
     "output_type": "stream",
     "text": [
      "Epoch: 0 --- cost = 1.4499600106438706\n",
      "Accuracy: 0.19165934329312134\n",
      "Epoch: 100 --- cost = 0.9638994026036988\n",
      "Accuracy: 0.5264040904370056\n",
      "Epoch: 200 --- cost = 0.9405930545278739\n",
      "Accuracy: 0.5567628025884797\n",
      "Epoch: 300 --- cost = 0.9234720892231448\n",
      "Accuracy: 0.5691459614923704\n",
      "Epoch: 400 --- cost = 0.9101999768538402\n",
      "Accuracy: 0.5806503155708237\n",
      "[[0.]\n",
      " [1.]\n",
      " [0.]\n",
      " ...\n",
      " [0.]\n",
      " [1.]\n",
      " [0.]]\n"
     ]
    },
    {
     "data": {
      "image/png": "[encoded data removed]",
      "text/plain": [
       "<Figure size 640x480 with 1 Axes>"
      ]
     },
     "metadata": {},
     "output_type": "display_data"
    }
   ],
   "source": [
    "X_train, X_test, Y_train, Y_test = train_test_split(X,Y_OH, test_size=.15, random_state = 42)\n",
    "pred, W, b = model(X_train, Y_train, word_embedding)\n",
    "print(pred)"
   ]
  },
  {
   "cell_type": "markdown",
   "metadata": {},
   "source": [
    "### 1.3.3 - Examine performance on Test (Unseen) Data\n",
    "\n",
    "Below we can see how the model performed on the training data and test data. While it is a significant increase from just randomly classifying each sentence in to one of the three labels, it still may not have significant value."
   ]
  },
  {
   "cell_type": "code",
   "execution_count": 19,
   "metadata": {},
   "outputs": [
    {
     "name": "stdout",
     "output_type": "stream",
     "text": [
      "Training set:\n",
      "Accuracy: 0.587680754174323\n",
      "Test set:\n",
      "Accuracy: 0.5841628959276018\n"
     ]
    }
   ],
   "source": [
    "print(\"Training set:\")\n",
    "pred_train = predict(X_train, Y_train, W, b, word_embedding)\n",
    "print('Test set:')\n",
    "pred_test = predict(X_test, Y_test, W, b, word_embedding)"
   ]
  },
  {
   "cell_type": "markdown",
   "metadata": {},
   "source": [
    "### 1.3.4 - Looking at Mislabeled Examples\n",
    "\n",
    "Below we see the mislabeled examples, which showcases a critical issue. Because Bag-Of-Words does not preserve word order, it performs very poorly and can actually be harmful in the financial domain."
   ]
  },
  {
   "cell_type": "code",
   "execution_count": 20,
   "metadata": {},
   "outputs": [
    {
     "name": "stdout",
     "output_type": "stream",
     "text": [
      "Selling and distribution expenses increased 13% in the first nine month driven by higher own retail expenditures, as well as a step up in brand communication.Expected Sentiment:[-1.], Prediction: [1.]\n",
      "We grew adjusted earnings per share at 9% over the prior year quarter and EBITDA from operating segments grew 8%.Expected Sentiment:[0.], Prediction: [1.]\n",
      "Turning to slide 6, our Well Intervention utilization was at 73% in Q1, slightly down from 74% in Q4 2017.Expected Sentiment:[-1.], Prediction: [1.]\n",
      "We maintained our cash dividend for the third quarter at $0.155 per common share and we've repurchased $237 million of our common stock this year, with $99 million repurchased from the third quarter alone.Expected Sentiment:[0.], Prediction: [1.]\n"
     ]
    }
   ],
   "source": [
    "Y_val = np.zeros((len(Y_test), 1))\n",
    "for j in range(len(Y_test)):\n",
    "    Y_val[j] = np.argmax(Y_test[j])\n",
    "\n",
    "Y_val[Y_val == 0] = -1\n",
    "Y_val[Y_val == 1] = 0\n",
    "Y_val[Y_val == 2] = 1\n",
    "\n",
    "N_ex = 0\n",
    "for i in range(len(Y_test)):\n",
    "    if pred_test[i] != Y_val[i]:\n",
    "        print(X_test[i] + 'Expected Sentiment:'+ str(Y_val[i]) + ', Prediction: '+ str(pred_test[i]))\n",
    "        N_ex += 1\n",
    "        if N_ex > 3:\n",
    "            break\n",
    "    "
   ]
  },
  {
   "cell_type": "markdown",
   "metadata": {},
   "source": [
    "## 2. Financial-Sentiment-V2 Using Sequential Neural Networks"
   ]
  },
  {
   "cell_type": "markdown",
   "metadata": {},
   "source": [
    "### 2.1 Model Overview\n",
    "\n",
    "Text datasets are generally directional datasets, where the context/meaning depends on the ordering of each word within that sentence. Sequential Neural Networks provide us with a way to analyze these datasets in contextual manner than being completely statistical. Below, we will see two types of networks: 1) Recurrent Neural Networks (RNN), and 2) Long Short Term Memory Units (LSTM) and compare these with the model built above.\n",
    "\n",
    "An essential component of a neural network analyzing text data is the Embedding Layer. This embedding layer serves as the bridge between $text$ and its $numerical$ $representation$ that the machine processes."
   ]
  },
  {
   "cell_type": "markdown",
   "metadata": {},
   "source": [
    "### 2.2 Embedding Layer\n",
    "\n",
    "The embedding layer takes as input the indices of each word in the sentence and outputs the corresponding word vector representation. This embedding layer can use pre-trained word embedding vectors, or these can be tuned/trained on the fly as well. In the models below we will use the same pre-trained GloVe embeddings as above.\n",
    "\n",
    "<img src='EmbeddingLayer.png'>\n",
    "\n",
    "Run the following cell to load the required packages and libraries."
   ]
  },
  {
   "cell_type": "code",
   "execution_count": 21,
   "metadata": {},
   "outputs": [],
   "source": [
    "import numpy as np\n",
    "np.random.seed(0)\n",
    "from keras.models import Model, Sequential\n",
    "from keras.layers import Dense, Input, Dropout, LSTM, Activation, SimpleRNN\n",
    "from keras.layers.embeddings import Embedding\n",
    "from keras.preprocessing import sequence\n",
    "from keras.initializers import glorot_uniform\n",
    "from keras.utils import to_categorical\n",
    "from keras.optimizers import Adam\n",
    "from keras.preprocessing.sequence import pad_sequences\n",
    "np.random.seed(1)"
   ]
  },
  {
   "cell_type": "markdown",
   "metadata": {},
   "source": [
    "We will again need to clean up the text as a pre-processing step for input to the neural networks."
   ]
  },
  {
   "cell_type": "code",
   "execution_count": 22,
   "metadata": {},
   "outputs": [],
   "source": [
    "def clean_document(s):\n",
    "    regex = re.compile('[%s]' % re.escape(string.punctuation + '\\n\\n' + '\\t\\t'))\n",
    "    doco_clean = regex.sub('', s)\n",
    "    doco_clean = doco_clean.split(' ');\n",
    "    doco_clean = [word.lower() for word in doco_clean if len(word) > 0];\n",
    "    return doco_clean;"
   ]
  },
  {
   "cell_type": "markdown",
   "metadata": {},
   "source": [
    "Let's load the data again and do some pre-processing for our labels, i.e. convert these to one-hot-encodings, and clean up the sentences from the earnings calls."
   ]
  },
  {
   "cell_type": "code",
   "execution_count": 23,
   "metadata": {},
   "outputs": [
    {
     "name": "stderr",
     "output_type": "stream",
     "text": [
      "/Users/sahil/anaconda3/lib/python3.6/site-packages/ipykernel_launcher.py:6: SettingWithCopyWarning: \n",
      "A value is trying to be set on a copy of a slice from a DataFrame\n",
      "\n",
      "See the caveats in the documentation: http://pandas.pydata.org/pandas-docs/stable/indexing.html#indexing-view-versus-copy\n",
      "  \n",
      "/Users/sahil/anaconda3/lib/python3.6/site-packages/ipykernel_launcher.py:7: SettingWithCopyWarning: \n",
      "A value is trying to be set on a copy of a slice from a DataFrame\n",
      "\n",
      "See the caveats in the documentation: http://pandas.pydata.org/pandas-docs/stable/indexing.html#indexing-view-versus-copy\n",
      "  import sys\n"
     ]
    }
   ],
   "source": [
    "Data = pd.read_csv('EC_Data.csv')\n",
    "X = list(Data['Sentence'])\n",
    "Y = Data['MyScore']\n",
    "\n",
    "y = Y\n",
    "y[Y > 0] = 1\n",
    "y[Y < 0] = 2\n",
    "\n",
    "# Obtain a One-hot Y array for each sentence label.\n",
    "y = to_categorical(y);\n",
    "\n",
    "X_clean = [clean_document(doc) for doc in X];\n",
    "sentences = [' '.join(r) for r in X_clean]\n"
   ]
  },
  {
   "cell_type": "markdown",
   "metadata": {},
   "source": [
    "Next, we will tokenize each word in the dataset to unique identifier for that word, which could then be used by the embedding layer to convert this index to its corresponding word vector representation. Here, we will again use the pre-trained GloVe embeddings."
   ]
  },
  {
   "cell_type": "code",
   "execution_count": 24,
   "metadata": {},
   "outputs": [],
   "source": [
    "tokenizer = Tokenizer();\n",
    "tokenizer.fit_on_texts(sentences);\n",
    "text_sequences = np.array(tokenizer.texts_to_sequences(sentences));\n",
    "sequence_dict = tokenizer.word_index;\n",
    "word_dict = dict((num, val) for (val, num) in sequence_dict.items());\n",
    "\n",
    "Glove_dim = 50\n",
    "embeddings_index = dict();\n",
    "with open('/srv/data/shared_data/glove.6B.50d.txt') as f:\n",
    "    for line in f:\n",
    "        values = line.split();\n",
    "        word = values[0];\n",
    "        coefs = np.asarray(values[1:], dtype='float32');\n",
    "        embeddings_index[word] = coefs;\n",
    "        \n",
    "vocab_size = len(sequence_dict);\n",
    "embeddings_matrix = np.zeros((vocab_size+1, Glove_dim));\n",
    "for word, i in sequence_dict.items():\n",
    "    embedding_vector = embeddings_index.get(word);\n",
    "    if embedding_vector is not None:\n",
    "        embeddings_matrix[i] = embedding_vector;\n",
    "\n",
    "# Generate encoded sentences\n",
    "sentences_encoded = [];\n",
    "for i,sentence in enumerate(X_clean):\n",
    "    sentences_encoded.append([sequence_dict[x] for x in sentence]);"
   ]
  },
  {
   "cell_type": "markdown",
   "metadata": {},
   "source": [
    "Let's look at the distribution of the lengths of sentences in our dataset. This would allow us to fix the length of the sentence that goes as input to the network."
   ]
  },
  {
   "cell_type": "code",
   "execution_count": 25,
   "metadata": {},
   "outputs": [
    {
     "data": {
      "text/plain": [
       "Text(0, 0.5, 'Number of sentences')"
      ]
     },
     "execution_count": 25,
     "metadata": {},
     "output_type": "execute_result"
    },
    {
     "data": {
      "image/png": "[encoded data removed]",
      "text/plain": [
       "<Figure size 640x480 with 1 Axes>"
      ]
     },
     "metadata": {},
     "output_type": "display_data"
    }
   ],
   "source": [
    "# Plot a Histogram of length of sentences\n",
    "lengths = [len(x) for x in sentences_encoded];\n",
    "figure(num=None, figsize=(8, 6), dpi=80, facecolor='w', edgecolor='k')\n",
    "with plt.xkcd():\n",
    "    plt.hist(lengths, bins=range(100))  \n",
    "plt.xlabel('Length of sentences')\n",
    "plt.ylabel('Number of sentences')\n"
   ]
  },
  {
   "cell_type": "markdown",
   "metadata": {},
   "source": [
    "The histogram above shows that we could use a cap of 50 words for each sentence as almost all of the distribution is captured at this length.\n",
    "\n",
    "Next, we will truncate all sentences for a cap of 50 words and pad those sentences with length less than 50. We will also randomny shuffle the data, so as not to overfit the neural network to any particular part of the data."
   ]
  },
  {
   "cell_type": "code",
   "execution_count": 26,
   "metadata": {},
   "outputs": [],
   "source": [
    "# Truncate and Pad sentences at a Maximum cap of 50 words.\n",
    "max_cap = 50;\n",
    "X_pad = pad_sequences(sentences_encoded, maxlen=max_cap, truncating='post', padding='post')\n",
    "\n",
    "# Get a randomized sequence of positions to shuffle sentences\n",
    "np.random.seed(1024);\n",
    "random_posits = np.arange(len(X))\n",
    "np.random.shuffle(random_posits);\n",
    "\n",
    "# Shuffle X and Y\n",
    "X_pad = X_pad[random_posits];\n",
    "y = y[random_posits];"
   ]
  },
  {
   "cell_type": "markdown",
   "metadata": {},
   "source": [
    "As the last step before the model, we need to split the data in to training and test sets."
   ]
  },
  {
   "cell_type": "code",
   "execution_count": 27,
   "metadata": {},
   "outputs": [],
   "source": [
    "X_train, X_test, Y_train, Y_test = train_test_split(X_pad,y, test_size=.15, random_state = 42)"
   ]
  },
  {
   "cell_type": "markdown",
   "metadata": {},
   "source": [
    "### 2.3 Building the Model\n",
    "\n",
    "Below, we will implement two models using RNNs and LSTMs. In both cases, we will start with the embedding layer which then feeds in to the RNN/LSTM units. This then goes in to a Feed Forward Neural Network and then finally to a classifier."
   ]
  },
  {
   "cell_type": "markdown",
   "metadata": {},
   "source": [
    "#### 2.3.1 Recurrent Neural Network\n",
    "\n",
    "<img src='RNNcell.png'>\n",
    "\n",
    "<img src='RNNeq.png'>\n",
    "\n",
    "<img src='RNNnetwork.png'>"
   ]
  },
  {
   "cell_type": "code",
   "execution_count": 28,
   "metadata": {},
   "outputs": [
    {
     "name": "stdout",
     "output_type": "stream",
     "text": [
      "_________________________________________________________________\n",
      "Layer (type)                 Output Shape              Param #   \n",
      "=================================================================\n",
      "embedding_1 (Embedding)      (None, 50, 50)            969650    \n",
      "_________________________________________________________________\n",
      "simple_rnn_1 (SimpleRNN)     (None, 60)                6660      \n",
      "_________________________________________________________________\n",
      "dense_1 (Dense)              (None, 60)                3660      \n",
      "_________________________________________________________________\n",
      "dense_2 (Dense)              (None, 3)                 183       \n",
      "=================================================================\n",
      "Total params: 980,153\n",
      "Trainable params: 10,503\n",
      "Non-trainable params: 969,650\n",
      "_________________________________________________________________\n",
      "None\n",
      "Epoch 1/10\n",
      "12517/12517 [==============================] - 6s 458us/step - loss: 0.5954 - acc: 0.6672\n",
      "Epoch 2/10\n",
      "12517/12517 [==============================] - 4s 318us/step - loss: 0.5917 - acc: 0.6662\n",
      "Epoch 3/10\n",
      "12517/12517 [==============================] - 4s 318us/step - loss: 0.5910 - acc: 0.6693\n",
      "Epoch 4/10\n",
      "12517/12517 [==============================] - 4s 315us/step - loss: 0.5910 - acc: 0.6674\n",
      "Epoch 5/10\n",
      "12517/12517 [==============================] - 4s 337us/step - loss: 0.5907 - acc: 0.6668\n",
      "Epoch 6/10\n",
      "12517/12517 [==============================] - 4s 337us/step - loss: 0.5905 - acc: 0.6684\n",
      "Epoch 7/10\n",
      "12517/12517 [==============================] - 4s 324us/step - loss: 0.5904 - acc: 0.6681\n",
      "Epoch 8/10\n",
      "12517/12517 [==============================] - 4s 323us/step - loss: 0.5902 - acc: 0.6672\n",
      "Epoch 9/10\n",
      "12517/12517 [==============================] - 4s 326us/step - loss: 0.5900 - acc: 0.6671\n",
      "Epoch 10/10\n",
      "12517/12517 [==============================] - 4s 321us/step - loss: 0.5892 - acc: 0.6685\n",
      "2210/2210 [==============================] - 1s 282us/step\n",
      "\n",
      "Test accuracy =  0.6677224764996524\n"
     ]
    }
   ],
   "source": [
    "model_RNN = Sequential();\n",
    "model_RNN.add(Embedding(len(word_dict)+1, max_cap, input_length=max_cap, weights=[embeddings_matrix], trainable=False));\n",
    "model_RNN.add(SimpleRNN(60));\n",
    "model_RNN.add(Dense(60, activation='relu'));\n",
    "model_RNN.add(Dense(3, activation='softmax'));\n",
    "print(model_RNN.summary());\n",
    "optimizer = Adam(lr=0.01, decay=0.001);\n",
    "model_RNN.compile(loss='binary_crossentropy', optimizer=optimizer, metrics=['accuracy'])\n",
    "# fit model\n",
    "history_RNN = model_RNN.fit(X_train, Y_train, batch_size=64, epochs=10)\n",
    "\n",
    "loss, acc = model_RNN.evaluate(X_test, Y_test)\n",
    "print()\n",
    "print(\"Test accuracy = \", acc)"
   ]
  },
  {
   "cell_type": "markdown",
   "metadata": {},
   "source": [
    "#### 2.3.2 LSTM\n",
    "\n",
    "While RNN is a sequential neural network, it suffers from Vanishing/Exploding Gradients that act as Memory Loss. LSTM have more gates, and the ability to continuously transfer information, allowing it alleviate some of these issues.\n",
    "\n",
    "<img src='LSTMunit.png'>\n",
    "\n",
    "<img src='LSTMeq.png'>\n",
    "Source: [deeplearning.ai]\n",
    "\n",
    "<img src='LSTMnetwork.png'>"
   ]
  },
  {
   "cell_type": "code",
   "execution_count": 29,
   "metadata": {},
   "outputs": [
    {
     "name": "stdout",
     "output_type": "stream",
     "text": [
      "_________________________________________________________________\n",
      "Layer (type)                 Output Shape              Param #   \n",
      "=================================================================\n",
      "embedding_2 (Embedding)      (None, 50, 50)            969650    \n",
      "_________________________________________________________________\n",
      "lstm_1 (LSTM)                (None, 60)                26640     \n",
      "_________________________________________________________________\n",
      "dense_3 (Dense)              (None, 60)                3660      \n",
      "_________________________________________________________________\n",
      "dense_4 (Dense)              (None, 3)                 183       \n",
      "=================================================================\n",
      "Total params: 1,000,133\n",
      "Trainable params: 30,483\n",
      "Non-trainable params: 969,650\n",
      "_________________________________________________________________\n",
      "None\n",
      "Epoch 1/10\n",
      "12517/12517 [==============================] - 15s 1ms/step - loss: 0.5834 - acc: 0.6838\n",
      "Epoch 2/10\n",
      "12517/12517 [==============================] - 13s 1ms/step - loss: 0.4948 - acc: 0.7703\n",
      "Epoch 3/10\n",
      "12517/12517 [==============================] - 13s 1ms/step - loss: 0.4326 - acc: 0.8068\n",
      "Epoch 4/10\n",
      "12517/12517 [==============================] - 12s 974us/step - loss: 0.3874 - acc: 0.8334\n",
      "Epoch 5/10\n",
      "12517/12517 [==============================] - 12s 981us/step - loss: 0.3539 - acc: 0.8521\n",
      "Epoch 6/10\n",
      "12517/12517 [==============================] - 12s 987us/step - loss: 0.3191 - acc: 0.8708\n",
      "Epoch 7/10\n",
      "12517/12517 [==============================] - 13s 1ms/step - loss: 0.2837 - acc: 0.8891\n",
      "Epoch 8/10\n",
      "12517/12517 [==============================] - 13s 1ms/step - loss: 0.2552 - acc: 0.9026\n",
      "Epoch 9/10\n",
      "12517/12517 [==============================] - 12s 987us/step - loss: 0.2266 - acc: 0.9163\n",
      "Epoch 10/10\n",
      "12517/12517 [==============================] - 12s 989us/step - loss: 0.2019 - acc: 0.9280\n",
      "2210/2210 [==============================] - 1s 442us/step\n",
      "\n",
      "Test accuracy =  0.8588235389053552\n"
     ]
    }
   ],
   "source": [
    "model_LSTM = Sequential();\n",
    "model_LSTM.add(Embedding(len(word_dict)+1, max_cap, input_length=max_cap, weights=[embeddings_matrix], trainable=False));\n",
    "model_LSTM.add(LSTM(60));\n",
    "model_LSTM.add(Dense(60, activation='relu'));\n",
    "model_LSTM.add(Dense(3, activation='softmax'));\n",
    "print(model_LSTM.summary());\n",
    "optimizer = Adam(lr=0.01, decay=0.001);\n",
    "model_LSTM.compile(loss='binary_crossentropy', optimizer=optimizer, metrics=['accuracy'])\n",
    "# fit model\n",
    "history_LSTM = model_LSTM.fit(X_train, Y_train, batch_size=64, epochs=10)\n",
    "\n",
    "loss, acc = model_LSTM.evaluate(X_test, Y_test)\n",
    "print()\n",
    "print(\"Test accuracy = \", acc)"
   ]
  },
  {
   "cell_type": "markdown",
   "metadata": {},
   "source": [
    "## Acknowledgements\n",
    "\n",
    "We would like to thank everyone at Accrete for helping with this notebook. Some parts of this notebook use the deeplearning.ai coursework. Check out our github at https://github.com/accrete1/ContextualAnalysis"
   ]
  },
  {
   "cell_type": "code",
   "execution_count": null,
   "metadata": {},
   "outputs": [],
   "source": []
  }
 ],
 "metadata": {
  "kernelspec": {
   "display_name": "Python 3",
   "language": "python",
   "name": "python3"
  },
  "language_info": {
   "codemirror_mode": {
    "name": "ipython",
    "version": 3
   },
   "file_extension": ".py",
   "mimetype": "text/x-python",
   "name": "python",
   "nbconvert_exporter": "python",
   "pygments_lexer": "ipython3",
   "version": "3.6.8"
  }
 },
 "nbformat": 4,
 "nbformat_minor": 2
}
